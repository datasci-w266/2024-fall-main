{
  "cells": [
    {
      "cell_type": "markdown",
      "metadata": {
        "id": "U67MkVZ-p6QN"
      },
      "source": [
        "# Neural Network Basics\n",
        "\n",
        "### Brief Review of Machine Learning\n",
        "\n",
        "In supervised learning, parametric models are those where the model is a function of a fixed form with a number of unknown _parameters_.  Together with a loss function and a training set, an optimizer can select parameters to minimize the loss with respect to the training set.  Common optimizers include stochastic gradient descent.  It tweaks the parameters slightly to move the loss \"downhill\" due to a small batch of examples from the training set.\n",
        "\n",
        "## Part A:  Linear & Logistic Regression\n",
        "\n",
        "You've likely seen linear regression before.  In linear regression, we fit a line (technically, hyperplane) that predicts a target variable, $y$, based on some features $x$.  The form of this model is affine (even if we call it \"linear\"):  \n",
        "\n",
        "$$y_{hat} = xW + b$$\n",
        "\n",
        "where $W$ and $b$ are weights and an offset, respectively, and are the parameters of this parametric model.  The loss function that the optimizer uses to fit these parameters is the squared error ($||\\cdots||_2$) between the prediction and the ground truth in the training set.\n",
        "\n",
        "You've also likely seen logistic regression, which is tightly related to linear regression.  Logistic regression also fits a line - this time separating the positive and negative examples of a binary classifier.  The form of this model is similar:\n",
        "\n",
        "$$y_{hat} = \\sigma(xW + b)$$\n",
        "\n",
        "where again $W$ and $b$ are the parameters of this model, and $\\sigma$ is the [sigmoid function](https://en.wikipedia.org/wiki/Sigmoid_function) which maps un-normalized scores (\"logits\") to values $\\hat{y} \\in [0,1]$ that represent probabilities. The loss function that the optimizer uses to fit these parameters is the [cross entropy](../a1/information_theory.ipynb) between the prediction and the ground truth in the training set.\n",
        "\n",
        "This pattern of an affine transform, $xW + b$, occurs over and over in machine learning.\n",
        "\n",
        "**We'll use logistic regression as our running example for the rest of this part.**\n",
        "\n",
        "\n",
        "### Short Answer Questions\n",
        "\n",
        "Imagine you want to implement logistic regression:\n",
        "\n",
        "* `z = xW + b`\n",
        "* `y_hat = sigmoid(z)`\n",
        "\n",
        "Where:\n",
        "1.  `x` is an 11-dimensional feature vector\n",
        "2.  `W` is the weight vector\n",
        "3.  `b` is the bias term\n",
        "\n",
        "What are the dimensions of `W` and `b`?  Recall that in logistic regression, `z` is just a scalar (commonly referred to as the \"logit\").\n",
        "\n",
        "Sketch a picture of the whole equation using rectangles to illustrate the dimensions of `x`, `W`, and `b`.  See examples below for inspiration (though please label each dimension).  We don't ask you to submit this, but make sure you can do it!  It's the \"print\" debugging statement of neural networks!  It's also useful for reading papers... if you can't draw the shapes of all the tensors, you don't (yet) know what's going on!"
      ]
    },
    {
      "cell_type": "markdown",
      "metadata": {
        "id": "NgBOgymFp6QO"
      },
      "source": [
        "## Part B: Batching\n",
        "\n",
        "Let's say we want to perform inference using your model (parameters `W` and `b`) above on multiple examples instead of just one. On modern hardware (especially GPUs), we can do this efficiently by *batching*.\n",
        "\n",
        "To do this, we stack up the feature vectors in x like in the diagram below.  Note that changing the number of examples you run on (i.e. your batch size) *does not* affect the number of parameters in your model.  You're just running the same thing in parallel (instead of running the above one feature vector at a time at a time).\n",
        "\n",
        "![](batchaffine.png)\n",
        "\n",
        "The red (# features) and blue (batch size) lines represent dimensions that are the same.\n",
        "\n",
        "### Short Answer Questions\n",
        "\n",
        "If we have 11 features and running the model in parallel with 30 examples, what are the dimensions of:\n",
        "\n",
        "1. `W` ?\n",
        "2. `b` ?\n",
        "3. `x` ?\n",
        "4. `z` ?\n",
        "\n",
        "_Hint:_ remember that your model parameters stay fixed!"
      ]
    },
    {
      "cell_type": "markdown",
      "metadata": {
        "id": "FSegFZicp6QP"
      },
      "source": [
        "## Part C: Logistic Regression - NumPy Implementation\n",
        "\n",
        "In this section, we'll implement logistic regression by hand and compute a few values to make sure we understand what's going on!\n",
        "\n",
        "Let's say your model has the following parameters:"
      ]
    },
    {
      "cell_type": "code",
      "execution_count": 8,
      "metadata": {
        "id": "0kMJbubcp6QP"
      },
      "outputs": [],
      "source": [
        "import numpy as np\n",
        "\n",
        "W = np.array([45,6,3,25,-1])\n",
        "b = 5"
      ]
    },
    {
      "cell_type": "markdown",
      "metadata": {
        "id": "C0ZF-DUBp6QP"
      },
      "source": [
        "If you want to run the model on the following three examples:\n",
        "\n",
        "* [1, 2, 3, 4, 5]\n",
        "* [0, 0, 0, 0, 5]\n",
        "* [-3, -4, -12, -1, 1]\n",
        "\n",
        "Construct the x matrix **such that you compute the answer all in one big batch** and compute the probability of the positive class for each."
      ]
    },
    {
      "cell_type": "code",
      "execution_count": 9,
      "metadata": {
        "colab": {
          "base_uri": "https://localhost:8080/"
        },
        "id": "ugvLiQXBp6QP",
        "outputId": "f3e7a096-1e78-45fc-800b-c4a8f0fd990b"
      },
      "outputs": [
        {
          "output_type": "stream",
          "name": "stdout",
          "text": [
            "[1.00000000e+00 5.00000000e-01 1.55737037e-94]\n"
          ]
        }
      ],
      "source": [
        "# Import sigmoid.\n",
        "from scipy.special import expit as sigmoid\n",
        "\n",
        "### YOUR CODE HERE\n",
        "\n",
        "# Define parameters\n",
        "W = np.array([45, 6, 3, 25, -1])\n",
        "b = 5\n",
        "\n",
        "# Define input x matrix\n",
        "x = np.array([\n",
        "    [1, 2, 3, 4, 5],\n",
        "    [0, 0, 0, 0, 5],\n",
        "    [-3, -4, -12, -1, 1]\n",
        "])\n",
        "\n",
        "# Compute z\n",
        "z = np.dot(x, W) + b\n",
        "\n",
        "# Compute probability\n",
        "probability = sigmoid(z)\n",
        "\n",
        "# Print probabilities\n",
        "print(probability)\n",
        "\n",
        "### END YOUR CODE"
      ]
    },
    {
      "cell_type": "markdown",
      "metadata": {
        "id": "KNTu4gYMp6QP"
      },
      "source": [
        "### Short Answer Questions\n",
        "\n",
        "1. What is the probability of the positive class for the second (middle) example?\n",
        "2. What is the cross-entropy loss in Base 2 of the second example if its label is positive?"
      ]
    },
    {
      "cell_type": "markdown",
      "metadata": {
        "id": "lFHqLcyhp6QP"
      },
      "source": [
        "## Part D: NumPy Feed Forward Neural Network\n",
        "\n",
        "Let's do the same procedure for a simple feed-forward neural network.\n",
        "\n",
        "Imagine you have a 3 layer network (hint: # of affines = # of layers)  Each hidden layer is size 10.  Just like before, you've already trained your model and you just want to run it forward.  For this exercise, let's say that each weight matrix is np.ones(...) and each bias term is [-1, -2, -3, ..., -n] if the bias term is $n$ long.  Compute the probability of the positive class for the three examples above, again in a single batch.\n",
        "\n",
        "**Hint:  Draw the shapes of the matrices at each layer out on a piece of paper!  Include it with any questions you post to Piazza.**\n",
        "\n",
        "Assume your model uses a sigmoid as the nonlinearity for all layers."
      ]
    },
    {
      "cell_type": "code",
      "execution_count": 10,
      "metadata": {
        "colab": {
          "base_uri": "https://localhost:8080/"
        },
        "id": "yRurFaQYp6QP",
        "outputId": "170a8322-889a-438a-8f74-0e54457a6ad2"
      },
      "outputs": [
        {
          "output_type": "stream",
          "name": "stdout",
          "text": [
            "[[0.99967432]\n",
            " [0.95354128]\n",
            " [0.3691505 ]]\n"
          ]
        }
      ],
      "source": [
        "### YOUR CODE HERE\n",
        "\n",
        "import numpy as np\n",
        "from scipy.special import expit as sigmoid\n",
        "\n",
        "# Define input matrix\n",
        "x = np.array([\n",
        "    [1, 2, 3, 4, 5],\n",
        "    [0, 0, 0, 0, 5],\n",
        "    [-3, -4, -12, -1, 1]\n",
        "])\n",
        "\n",
        "# Define weight matrices and bias terms for each layer\n",
        "W1 = np.ones((5, 10))\n",
        "b1 = np.array([-1, -2, -3, -4, -5, -6, -7, -8, -9, -10])\n",
        "\n",
        "W2 = np.ones((10, 10))\n",
        "b2 = np.array([-1, -2, -3, -4, -5, -6, -7, -8, -9, -10])\n",
        "\n",
        "W3 = np.ones((10, 1))\n",
        "b3 = np.array([-1])\n",
        "\n",
        "# Layer 1\n",
        "z1 = np.dot(x, W1) + b1\n",
        "a1 = sigmoid(z1)\n",
        "\n",
        "# Layer 2\n",
        "z2 = np.dot(a1, W2) + b2\n",
        "a2 = sigmoid(z2)\n",
        "\n",
        "# Layer 3\n",
        "z3 = np.dot(a2, W3) + b3\n",
        "output = sigmoid(z3)\n",
        "\n",
        "# Print output probabilities\n",
        "print(output)\n",
        "\n",
        "### END YOUR CODE"
      ]
    },
    {
      "cell_type": "markdown",
      "metadata": {
        "id": "M-3h_HhRp6QP"
      },
      "source": [
        "### Short Answer Questions\n",
        "\n",
        "1.  What is the probability of the third example?\n",
        "2.  What is the cross-entropy loss if its label is negative?"
      ]
    },
    {
      "cell_type": "markdown",
      "metadata": {
        "id": "p2aZJ25Mp6QP"
      },
      "source": [
        "## Part E: Softmax\n",
        "\n",
        "Recall that softmax(z) is a vector with the same length as z, and whose components are:  $softmax(z)_i = \\frac{e^{z_i}}{\\Sigma_j e^{z_j}}$.\n",
        "\n",
        "### Short Answer Questions\n",
        "\n",
        "1. If the logits coming from the main body of the network are [4, 5, 6], what is the probability of the middle class?\n",
        "2. What is the cross-entropy loss if the correct class is the last one? (i.e. corresponding to logit=6)?\n",
        "3. If you had such a three-class classification problem, what would the dimensions of W and b be for the last layer of the feed forward neural network above?"
      ]
    },
    {
      "cell_type": "code",
      "execution_count": 10,
      "metadata": {
        "id": "HdAzWzcPp6QP"
      },
      "outputs": [],
      "source": []
    }
  ],
  "metadata": {
    "kernelspec": {
      "display_name": "Python 3 (ipykernel)",
      "language": "python",
      "name": "python3"
    },
    "language_info": {
      "codemirror_mode": {
        "name": "ipython",
        "version": 3
      },
      "file_extension": ".py",
      "mimetype": "text/x-python",
      "name": "python",
      "nbconvert_exporter": "python",
      "pygments_lexer": "ipython3",
      "version": "3.9.13"
    },
    "colab": {
      "provenance": []
    }
  },
  "nbformat": 4,
  "nbformat_minor": 0
}