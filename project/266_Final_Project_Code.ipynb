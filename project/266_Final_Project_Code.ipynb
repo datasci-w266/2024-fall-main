{
  "nbformat": 4,
  "nbformat_minor": 0,
  "metadata": {
    "colab": {
      "provenance": []
    },
    "kernelspec": {
      "name": "python3",
      "display_name": "Python 3"
    },
    "language_info": {
      "name": "python"
    }
  },
  "cells": [
    {
      "cell_type": "code",
      "execution_count": 2,
      "metadata": {
        "colab": {
          "base_uri": "https://localhost:8080/"
        },
        "id": "smEAA10cHZ8y",
        "outputId": "5535ea0b-6143-4b4b-dd5c-a58d00fc1f2c"
      },
      "outputs": [
        {
          "output_type": "stream",
          "name": "stdout",
          "text": [
            "Drive already mounted at /content/drive; to attempt to forcibly remount, call drive.mount(\"/content/drive\", force_remount=True).\n"
          ]
        }
      ],
      "source": [
        "from google.colab import drive\n",
        "drive.mount('/content/drive')"
      ]
    },
    {
      "cell_type": "markdown",
      "source": [
        "Verify Access to PDFs"
      ],
      "metadata": {
        "id": "7sy9mcq5KMns"
      }
    },
    {
      "cell_type": "code",
      "source": [
        "import os\n",
        "\n",
        "# Path to the FORUM folder on Google Drive\n",
        "folder_path = '/content/drive/My Drive/FORUM'\n",
        "files = os.listdir(folder_path)\n",
        "print(files)"
      ],
      "metadata": {
        "colab": {
          "base_uri": "https://localhost:8080/"
        },
        "id": "XFYmjHCNJo6k",
        "outputId": "4022c177-4fe4-4e71-df0d-a98cdffaa85c"
      },
      "execution_count": 3,
      "outputs": [
        {
          "output_type": "stream",
          "name": "stdout",
          "text": [
            "['forum_fall24.pdf', 'forum_summer2024.pdf', 'forum_spring2024.pdf', 'forum_winter2024.pdf', 'Forum_summer2023.pdf', 'Forum_Spring2023.pdf', 'Forum_Winter2023.pdf', 'Forum_fall2022.pdf', 'Forum_summer2022.pdf', 'Forum_spring2022.pdf', 'Forum_winter2021.pdf', 'Forum_fall2021.pdf', 'Forum_summer2021.pdf', 'Forum_Spring2021.pdf', 'Forum_fall2020.pdf', 'Forum_summer2020.pdf', 'Forum_Spring2020.pdf', 'Forum_Fall2019.pdf', 'Forum_Summer2019.pdf', 'Forum_Spring2019.pdf', 'Forum_winter2018.pdf', 'Forum_summer2018.pdf', 'Forum_spring2018.pdf', 'Forum_fall2017.pdf', 'Forum_Summer2017.pdf', 'forum_spring_17.pdf', 'forum_fall_16.pdf', 'forum_summer_16.pdf', 'forum-spring2016.pdf', 'forum11_15.pdf', 'forum08_15.pdf', 'forum05_15.pdf', 'forum10_14.pdf', 'forum08_14.pdf', 'forum05_14.pdf', 'forum10_13.pdf', 'forum07_13.pdf', 'forum04_13.pdf', 'forum10_12.pdf', 'forum08_12.pdf', 'forum05_12.pdf', 'forum11_11.pdf', 'forum08_11.pdf', 'forum05_11.pdf', 'forum10_10.pdf', 'forum08_10.pdf', 'forum05_10.pdf', '.DS_Store', 'forum12_09.pdf', 'forum08_09.pdf', 'forum05_09.pdf', 'forum11_08.pdf', 'forum07_08.pdf', 'forum04_08.pdf', 'forum11_07.pdf', 'forum7_07.pdf', 'forum05_07.pdf', 'forum11_06.pdf', 'forum08_06.pdf', 'forum05_06.pdf', 'forum11_05.pdf', 'forum09_05.pdf', 'forum06_05.pdf', 'forum11_04.pdf', 'forum6_04.pdf', 'forum_10_03.pdf', 'forum6_03.pdf', 'forum10_02.pdf', 'forjun02.pdf', 'forfeb02.pdf', 'foroct01.pdf', 'forjun01.pdf', 'fornov00.pdf', 'forjun00.pdf', 'formar00.pdf', 'fornov99.pdf', 'forum699.pdf', 'for_nov98.pdf']\n"
          ]
        }
      ]
    },
    {
      "cell_type": "markdown",
      "source": [
        "Baseline Model"
      ],
      "metadata": {
        "id": "6b03MwWqKGMg"
      }
    },
    {
      "cell_type": "code",
      "source": [
        "!pip install PyPDF2\n",
        "!pip install nltk\n",
        "import PyPDF2\n",
        "import nltk\n",
        "nltk.download('all')"
      ],
      "metadata": {
        "colab": {
          "base_uri": "https://localhost:8080/"
        },
        "id": "nBAwl5LtJuPu",
        "outputId": "173b5995-66a8-417c-f828-5b404dee2f09"
      },
      "execution_count": 4,
      "outputs": [
        {
          "output_type": "stream",
          "name": "stdout",
          "text": [
            "Requirement already satisfied: PyPDF2 in /usr/local/lib/python3.10/dist-packages (3.0.1)\n",
            "Requirement already satisfied: nltk in /usr/local/lib/python3.10/dist-packages (3.9.1)\n",
            "Requirement already satisfied: click in /usr/local/lib/python3.10/dist-packages (from nltk) (8.1.7)\n",
            "Requirement already satisfied: joblib in /usr/local/lib/python3.10/dist-packages (from nltk) (1.4.2)\n",
            "Requirement already satisfied: regex>=2021.8.3 in /usr/local/lib/python3.10/dist-packages (from nltk) (2024.9.11)\n",
            "Requirement already satisfied: tqdm in /usr/local/lib/python3.10/dist-packages (from nltk) (4.66.6)\n"
          ]
        },
        {
          "output_type": "stream",
          "name": "stderr",
          "text": [
            "[nltk_data] Downloading collection 'all'\n",
            "[nltk_data]    | \n",
            "[nltk_data]    | Downloading package abc to /root/nltk_data...\n",
            "[nltk_data]    |   Package abc is already up-to-date!\n",
            "[nltk_data]    | Downloading package alpino to /root/nltk_data...\n",
            "[nltk_data]    |   Package alpino is already up-to-date!\n",
            "[nltk_data]    | Downloading package averaged_perceptron_tagger to\n",
            "[nltk_data]    |     /root/nltk_data...\n",
            "[nltk_data]    |   Package averaged_perceptron_tagger is already up-\n",
            "[nltk_data]    |       to-date!\n",
            "[nltk_data]    | Downloading package averaged_perceptron_tagger_eng to\n",
            "[nltk_data]    |     /root/nltk_data...\n",
            "[nltk_data]    |   Package averaged_perceptron_tagger_eng is already\n",
            "[nltk_data]    |       up-to-date!\n",
            "[nltk_data]    | Downloading package averaged_perceptron_tagger_ru to\n",
            "[nltk_data]    |     /root/nltk_data...\n",
            "[nltk_data]    |   Package averaged_perceptron_tagger_ru is already\n",
            "[nltk_data]    |       up-to-date!\n",
            "[nltk_data]    | Downloading package averaged_perceptron_tagger_rus to\n",
            "[nltk_data]    |     /root/nltk_data...\n",
            "[nltk_data]    |   Package averaged_perceptron_tagger_rus is already\n",
            "[nltk_data]    |       up-to-date!\n",
            "[nltk_data]    | Downloading package basque_grammars to\n",
            "[nltk_data]    |     /root/nltk_data...\n",
            "[nltk_data]    |   Package basque_grammars is already up-to-date!\n",
            "[nltk_data]    | Downloading package bcp47 to /root/nltk_data...\n",
            "[nltk_data]    |   Package bcp47 is already up-to-date!\n",
            "[nltk_data]    | Downloading package biocreative_ppi to\n",
            "[nltk_data]    |     /root/nltk_data...\n",
            "[nltk_data]    |   Package biocreative_ppi is already up-to-date!\n",
            "[nltk_data]    | Downloading package bllip_wsj_no_aux to\n",
            "[nltk_data]    |     /root/nltk_data...\n",
            "[nltk_data]    |   Package bllip_wsj_no_aux is already up-to-date!\n",
            "[nltk_data]    | Downloading package book_grammars to\n",
            "[nltk_data]    |     /root/nltk_data...\n",
            "[nltk_data]    |   Package book_grammars is already up-to-date!\n",
            "[nltk_data]    | Downloading package brown to /root/nltk_data...\n",
            "[nltk_data]    |   Package brown is already up-to-date!\n",
            "[nltk_data]    | Downloading package brown_tei to /root/nltk_data...\n",
            "[nltk_data]    |   Package brown_tei is already up-to-date!\n",
            "[nltk_data]    | Downloading package cess_cat to /root/nltk_data...\n",
            "[nltk_data]    |   Package cess_cat is already up-to-date!\n",
            "[nltk_data]    | Downloading package cess_esp to /root/nltk_data...\n",
            "[nltk_data]    |   Package cess_esp is already up-to-date!\n",
            "[nltk_data]    | Downloading package chat80 to /root/nltk_data...\n",
            "[nltk_data]    |   Package chat80 is already up-to-date!\n",
            "[nltk_data]    | Downloading package city_database to\n",
            "[nltk_data]    |     /root/nltk_data...\n",
            "[nltk_data]    |   Package city_database is already up-to-date!\n",
            "[nltk_data]    | Downloading package cmudict to /root/nltk_data...\n",
            "[nltk_data]    |   Package cmudict is already up-to-date!\n",
            "[nltk_data]    | Downloading package comparative_sentences to\n",
            "[nltk_data]    |     /root/nltk_data...\n",
            "[nltk_data]    |   Package comparative_sentences is already up-to-\n",
            "[nltk_data]    |       date!\n",
            "[nltk_data]    | Downloading package comtrans to /root/nltk_data...\n",
            "[nltk_data]    |   Package comtrans is already up-to-date!\n",
            "[nltk_data]    | Downloading package conll2000 to /root/nltk_data...\n",
            "[nltk_data]    |   Package conll2000 is already up-to-date!\n",
            "[nltk_data]    | Downloading package conll2002 to /root/nltk_data...\n",
            "[nltk_data]    |   Package conll2002 is already up-to-date!\n",
            "[nltk_data]    | Downloading package conll2007 to /root/nltk_data...\n",
            "[nltk_data]    |   Package conll2007 is already up-to-date!\n",
            "[nltk_data]    | Downloading package crubadan to /root/nltk_data...\n",
            "[nltk_data]    |   Package crubadan is already up-to-date!\n",
            "[nltk_data]    | Downloading package dependency_treebank to\n",
            "[nltk_data]    |     /root/nltk_data...\n",
            "[nltk_data]    |   Package dependency_treebank is already up-to-date!\n",
            "[nltk_data]    | Downloading package dolch to /root/nltk_data...\n",
            "[nltk_data]    |   Package dolch is already up-to-date!\n",
            "[nltk_data]    | Downloading package europarl_raw to\n",
            "[nltk_data]    |     /root/nltk_data...\n",
            "[nltk_data]    |   Package europarl_raw is already up-to-date!\n",
            "[nltk_data]    | Downloading package extended_omw to\n",
            "[nltk_data]    |     /root/nltk_data...\n",
            "[nltk_data]    |   Package extended_omw is already up-to-date!\n",
            "[nltk_data]    | Downloading package floresta to /root/nltk_data...\n",
            "[nltk_data]    |   Package floresta is already up-to-date!\n",
            "[nltk_data]    | Downloading package framenet_v15 to\n",
            "[nltk_data]    |     /root/nltk_data...\n",
            "[nltk_data]    |   Package framenet_v15 is already up-to-date!\n",
            "[nltk_data]    | Downloading package framenet_v17 to\n",
            "[nltk_data]    |     /root/nltk_data...\n",
            "[nltk_data]    |   Package framenet_v17 is already up-to-date!\n",
            "[nltk_data]    | Downloading package gazetteers to /root/nltk_data...\n",
            "[nltk_data]    |   Package gazetteers is already up-to-date!\n",
            "[nltk_data]    | Downloading package genesis to /root/nltk_data...\n",
            "[nltk_data]    |   Package genesis is already up-to-date!\n",
            "[nltk_data]    | Downloading package gutenberg to /root/nltk_data...\n",
            "[nltk_data]    |   Package gutenberg is already up-to-date!\n",
            "[nltk_data]    | Downloading package ieer to /root/nltk_data...\n",
            "[nltk_data]    |   Package ieer is already up-to-date!\n",
            "[nltk_data]    | Downloading package inaugural to /root/nltk_data...\n",
            "[nltk_data]    |   Package inaugural is already up-to-date!\n",
            "[nltk_data]    | Downloading package indian to /root/nltk_data...\n",
            "[nltk_data]    |   Package indian is already up-to-date!\n",
            "[nltk_data]    | Downloading package jeita to /root/nltk_data...\n",
            "[nltk_data]    |   Package jeita is already up-to-date!\n",
            "[nltk_data]    | Downloading package kimmo to /root/nltk_data...\n",
            "[nltk_data]    |   Package kimmo is already up-to-date!\n",
            "[nltk_data]    | Downloading package knbc to /root/nltk_data...\n",
            "[nltk_data]    |   Package knbc is already up-to-date!\n",
            "[nltk_data]    | Downloading package large_grammars to\n",
            "[nltk_data]    |     /root/nltk_data...\n",
            "[nltk_data]    |   Package large_grammars is already up-to-date!\n",
            "[nltk_data]    | Downloading package lin_thesaurus to\n",
            "[nltk_data]    |     /root/nltk_data...\n",
            "[nltk_data]    |   Package lin_thesaurus is already up-to-date!\n",
            "[nltk_data]    | Downloading package mac_morpho to /root/nltk_data...\n",
            "[nltk_data]    |   Package mac_morpho is already up-to-date!\n",
            "[nltk_data]    | Downloading package machado to /root/nltk_data...\n",
            "[nltk_data]    |   Package machado is already up-to-date!\n",
            "[nltk_data]    | Downloading package masc_tagged to /root/nltk_data...\n",
            "[nltk_data]    |   Package masc_tagged is already up-to-date!\n",
            "[nltk_data]    | Downloading package maxent_ne_chunker to\n",
            "[nltk_data]    |     /root/nltk_data...\n",
            "[nltk_data]    |   Package maxent_ne_chunker is already up-to-date!\n",
            "[nltk_data]    | Downloading package maxent_ne_chunker_tab to\n",
            "[nltk_data]    |     /root/nltk_data...\n",
            "[nltk_data]    |   Package maxent_ne_chunker_tab is already up-to-\n",
            "[nltk_data]    |       date!\n",
            "[nltk_data]    | Downloading package maxent_treebank_pos_tagger to\n",
            "[nltk_data]    |     /root/nltk_data...\n",
            "[nltk_data]    |   Package maxent_treebank_pos_tagger is already up-\n",
            "[nltk_data]    |       to-date!\n",
            "[nltk_data]    | Downloading package maxent_treebank_pos_tagger_tab to\n",
            "[nltk_data]    |     /root/nltk_data...\n",
            "[nltk_data]    |   Package maxent_treebank_pos_tagger_tab is already\n",
            "[nltk_data]    |       up-to-date!\n",
            "[nltk_data]    | Downloading package moses_sample to\n",
            "[nltk_data]    |     /root/nltk_data...\n",
            "[nltk_data]    |   Package moses_sample is already up-to-date!\n",
            "[nltk_data]    | Downloading package movie_reviews to\n",
            "[nltk_data]    |     /root/nltk_data...\n",
            "[nltk_data]    |   Package movie_reviews is already up-to-date!\n",
            "[nltk_data]    | Downloading package mte_teip5 to /root/nltk_data...\n",
            "[nltk_data]    |   Package mte_teip5 is already up-to-date!\n",
            "[nltk_data]    | Downloading package mwa_ppdb to /root/nltk_data...\n",
            "[nltk_data]    |   Package mwa_ppdb is already up-to-date!\n",
            "[nltk_data]    | Downloading package names to /root/nltk_data...\n",
            "[nltk_data]    |   Package names is already up-to-date!\n",
            "[nltk_data]    | Downloading package nombank.1.0 to /root/nltk_data...\n",
            "[nltk_data]    |   Package nombank.1.0 is already up-to-date!\n",
            "[nltk_data]    | Downloading package nonbreaking_prefixes to\n",
            "[nltk_data]    |     /root/nltk_data...\n",
            "[nltk_data]    |   Package nonbreaking_prefixes is already up-to-date!\n",
            "[nltk_data]    | Downloading package nps_chat to /root/nltk_data...\n",
            "[nltk_data]    |   Package nps_chat is already up-to-date!\n",
            "[nltk_data]    | Downloading package omw to /root/nltk_data...\n",
            "[nltk_data]    |   Package omw is already up-to-date!\n",
            "[nltk_data]    | Downloading package omw-1.4 to /root/nltk_data...\n",
            "[nltk_data]    |   Package omw-1.4 is already up-to-date!\n",
            "[nltk_data]    | Downloading package opinion_lexicon to\n",
            "[nltk_data]    |     /root/nltk_data...\n",
            "[nltk_data]    |   Package opinion_lexicon is already up-to-date!\n",
            "[nltk_data]    | Downloading package panlex_swadesh to\n",
            "[nltk_data]    |     /root/nltk_data...\n",
            "[nltk_data]    |   Package panlex_swadesh is already up-to-date!\n",
            "[nltk_data]    | Downloading package paradigms to /root/nltk_data...\n",
            "[nltk_data]    |   Package paradigms is already up-to-date!\n",
            "[nltk_data]    | Downloading package pe08 to /root/nltk_data...\n",
            "[nltk_data]    |   Package pe08 is already up-to-date!\n",
            "[nltk_data]    | Downloading package perluniprops to\n",
            "[nltk_data]    |     /root/nltk_data...\n",
            "[nltk_data]    |   Package perluniprops is already up-to-date!\n",
            "[nltk_data]    | Downloading package pil to /root/nltk_data...\n",
            "[nltk_data]    |   Package pil is already up-to-date!\n",
            "[nltk_data]    | Downloading package pl196x to /root/nltk_data...\n",
            "[nltk_data]    |   Package pl196x is already up-to-date!\n",
            "[nltk_data]    | Downloading package porter_test to /root/nltk_data...\n",
            "[nltk_data]    |   Package porter_test is already up-to-date!\n",
            "[nltk_data]    | Downloading package ppattach to /root/nltk_data...\n",
            "[nltk_data]    |   Package ppattach is already up-to-date!\n",
            "[nltk_data]    | Downloading package problem_reports to\n",
            "[nltk_data]    |     /root/nltk_data...\n",
            "[nltk_data]    |   Package problem_reports is already up-to-date!\n",
            "[nltk_data]    | Downloading package product_reviews_1 to\n",
            "[nltk_data]    |     /root/nltk_data...\n",
            "[nltk_data]    |   Package product_reviews_1 is already up-to-date!\n",
            "[nltk_data]    | Downloading package product_reviews_2 to\n",
            "[nltk_data]    |     /root/nltk_data...\n",
            "[nltk_data]    |   Package product_reviews_2 is already up-to-date!\n",
            "[nltk_data]    | Downloading package propbank to /root/nltk_data...\n",
            "[nltk_data]    |   Package propbank is already up-to-date!\n",
            "[nltk_data]    | Downloading package pros_cons to /root/nltk_data...\n",
            "[nltk_data]    |   Package pros_cons is already up-to-date!\n",
            "[nltk_data]    | Downloading package ptb to /root/nltk_data...\n",
            "[nltk_data]    |   Package ptb is already up-to-date!\n",
            "[nltk_data]    | Downloading package punkt to /root/nltk_data...\n",
            "[nltk_data]    |   Package punkt is already up-to-date!\n",
            "[nltk_data]    | Downloading package punkt_tab to /root/nltk_data...\n",
            "[nltk_data]    |   Package punkt_tab is already up-to-date!\n",
            "[nltk_data]    | Downloading package qc to /root/nltk_data...\n",
            "[nltk_data]    |   Package qc is already up-to-date!\n",
            "[nltk_data]    | Downloading package reuters to /root/nltk_data...\n",
            "[nltk_data]    |   Package reuters is already up-to-date!\n",
            "[nltk_data]    | Downloading package rslp to /root/nltk_data...\n",
            "[nltk_data]    |   Package rslp is already up-to-date!\n",
            "[nltk_data]    | Downloading package rte to /root/nltk_data...\n",
            "[nltk_data]    |   Package rte is already up-to-date!\n",
            "[nltk_data]    | Downloading package sample_grammars to\n",
            "[nltk_data]    |     /root/nltk_data...\n",
            "[nltk_data]    |   Package sample_grammars is already up-to-date!\n",
            "[nltk_data]    | Downloading package semcor to /root/nltk_data...\n",
            "[nltk_data]    |   Package semcor is already up-to-date!\n",
            "[nltk_data]    | Downloading package senseval to /root/nltk_data...\n",
            "[nltk_data]    |   Package senseval is already up-to-date!\n",
            "[nltk_data]    | Downloading package sentence_polarity to\n",
            "[nltk_data]    |     /root/nltk_data...\n",
            "[nltk_data]    |   Package sentence_polarity is already up-to-date!\n",
            "[nltk_data]    | Downloading package sentiwordnet to\n",
            "[nltk_data]    |     /root/nltk_data...\n",
            "[nltk_data]    |   Package sentiwordnet is already up-to-date!\n",
            "[nltk_data]    | Downloading package shakespeare to /root/nltk_data...\n",
            "[nltk_data]    |   Package shakespeare is already up-to-date!\n",
            "[nltk_data]    | Downloading package sinica_treebank to\n",
            "[nltk_data]    |     /root/nltk_data...\n",
            "[nltk_data]    |   Package sinica_treebank is already up-to-date!\n",
            "[nltk_data]    | Downloading package smultron to /root/nltk_data...\n",
            "[nltk_data]    |   Package smultron is already up-to-date!\n",
            "[nltk_data]    | Downloading package snowball_data to\n",
            "[nltk_data]    |     /root/nltk_data...\n",
            "[nltk_data]    |   Package snowball_data is already up-to-date!\n",
            "[nltk_data]    | Downloading package spanish_grammars to\n",
            "[nltk_data]    |     /root/nltk_data...\n",
            "[nltk_data]    |   Package spanish_grammars is already up-to-date!\n",
            "[nltk_data]    | Downloading package state_union to /root/nltk_data...\n",
            "[nltk_data]    |   Package state_union is already up-to-date!\n",
            "[nltk_data]    | Downloading package stopwords to /root/nltk_data...\n",
            "[nltk_data]    |   Package stopwords is already up-to-date!\n",
            "[nltk_data]    | Downloading package subjectivity to\n",
            "[nltk_data]    |     /root/nltk_data...\n",
            "[nltk_data]    |   Package subjectivity is already up-to-date!\n",
            "[nltk_data]    | Downloading package swadesh to /root/nltk_data...\n",
            "[nltk_data]    |   Package swadesh is already up-to-date!\n",
            "[nltk_data]    | Downloading package switchboard to /root/nltk_data...\n",
            "[nltk_data]    |   Package switchboard is already up-to-date!\n",
            "[nltk_data]    | Downloading package tagsets to /root/nltk_data...\n",
            "[nltk_data]    |   Package tagsets is already up-to-date!\n",
            "[nltk_data]    | Downloading package tagsets_json to\n",
            "[nltk_data]    |     /root/nltk_data...\n",
            "[nltk_data]    |   Package tagsets_json is already up-to-date!\n",
            "[nltk_data]    | Downloading package timit to /root/nltk_data...\n",
            "[nltk_data]    |   Package timit is already up-to-date!\n",
            "[nltk_data]    | Downloading package toolbox to /root/nltk_data...\n",
            "[nltk_data]    |   Package toolbox is already up-to-date!\n",
            "[nltk_data]    | Downloading package treebank to /root/nltk_data...\n",
            "[nltk_data]    |   Package treebank is already up-to-date!\n",
            "[nltk_data]    | Downloading package twitter_samples to\n",
            "[nltk_data]    |     /root/nltk_data...\n",
            "[nltk_data]    |   Package twitter_samples is already up-to-date!\n",
            "[nltk_data]    | Downloading package udhr to /root/nltk_data...\n",
            "[nltk_data]    |   Package udhr is already up-to-date!\n",
            "[nltk_data]    | Downloading package udhr2 to /root/nltk_data...\n",
            "[nltk_data]    |   Package udhr2 is already up-to-date!\n",
            "[nltk_data]    | Downloading package unicode_samples to\n",
            "[nltk_data]    |     /root/nltk_data...\n",
            "[nltk_data]    |   Package unicode_samples is already up-to-date!\n",
            "[nltk_data]    | Downloading package universal_tagset to\n",
            "[nltk_data]    |     /root/nltk_data...\n",
            "[nltk_data]    |   Package universal_tagset is already up-to-date!\n",
            "[nltk_data]    | Downloading package universal_treebanks_v20 to\n",
            "[nltk_data]    |     /root/nltk_data...\n",
            "[nltk_data]    |   Package universal_treebanks_v20 is already up-to-\n",
            "[nltk_data]    |       date!\n",
            "[nltk_data]    | Downloading package vader_lexicon to\n",
            "[nltk_data]    |     /root/nltk_data...\n",
            "[nltk_data]    |   Package vader_lexicon is already up-to-date!\n",
            "[nltk_data]    | Downloading package verbnet to /root/nltk_data...\n",
            "[nltk_data]    |   Package verbnet is already up-to-date!\n",
            "[nltk_data]    | Downloading package verbnet3 to /root/nltk_data...\n",
            "[nltk_data]    |   Package verbnet3 is already up-to-date!\n",
            "[nltk_data]    | Downloading package webtext to /root/nltk_data...\n",
            "[nltk_data]    |   Package webtext is already up-to-date!\n",
            "[nltk_data]    | Downloading package wmt15_eval to /root/nltk_data...\n",
            "[nltk_data]    |   Package wmt15_eval is already up-to-date!\n",
            "[nltk_data]    | Downloading package word2vec_sample to\n",
            "[nltk_data]    |     /root/nltk_data...\n",
            "[nltk_data]    |   Package word2vec_sample is already up-to-date!\n",
            "[nltk_data]    | Downloading package wordnet to /root/nltk_data...\n",
            "[nltk_data]    |   Package wordnet is already up-to-date!\n",
            "[nltk_data]    | Downloading package wordnet2021 to /root/nltk_data...\n",
            "[nltk_data]    |   Package wordnet2021 is already up-to-date!\n",
            "[nltk_data]    | Downloading package wordnet2022 to /root/nltk_data...\n",
            "[nltk_data]    |   Package wordnet2022 is already up-to-date!\n",
            "[nltk_data]    | Downloading package wordnet31 to /root/nltk_data...\n",
            "[nltk_data]    |   Package wordnet31 is already up-to-date!\n",
            "[nltk_data]    | Downloading package wordnet_ic to /root/nltk_data...\n",
            "[nltk_data]    |   Package wordnet_ic is already up-to-date!\n",
            "[nltk_data]    | Downloading package words to /root/nltk_data...\n",
            "[nltk_data]    |   Package words is already up-to-date!\n",
            "[nltk_data]    | Downloading package ycoe to /root/nltk_data...\n",
            "[nltk_data]    |   Package ycoe is already up-to-date!\n",
            "[nltk_data]    | \n",
            "[nltk_data]  Done downloading collection all\n"
          ]
        },
        {
          "output_type": "execute_result",
          "data": {
            "text/plain": [
              "True"
            ]
          },
          "metadata": {},
          "execution_count": 4
        }
      ]
    },
    {
      "cell_type": "code",
      "source": [
        "# Extract Text from PDFs\n",
        "def extract_text_from_pdf(file_path):\n",
        "    text = ''\n",
        "    with open(file_path, 'rb') as file:\n",
        "        pdf_reader = PyPDF2.PdfReader(file)\n",
        "        for page in pdf_reader.pages:\n",
        "            text += page.extract_text() if page.extract_text() else ''\n",
        "    return text\n",
        "\n",
        "# Loop through each file and extract text\n",
        "all_texts = []\n",
        "for file_name in files:\n",
        "    if file_name.lower().endswith('.pdf'):\n",
        "        file_path = os.path.join(folder_path, file_name)\n",
        "        file_text = extract_text_from_pdf(file_path)\n",
        "        all_texts.append(file_text)"
      ],
      "metadata": {
        "id": "iBZzM-KBKV8n"
      },
      "execution_count": 5,
      "outputs": []
    },
    {
      "cell_type": "code",
      "source": [
        "# Preprocess Text\n",
        "\n",
        "from nltk.corpus import stopwords\n",
        "from nltk.tokenize import word_tokenize\n",
        "from nltk.stem import PorterStemmer\n",
        "\n",
        "stop_words = set(stopwords.words('english'))\n",
        "stemmer = PorterStemmer()\n",
        "\n",
        "def preprocess_text(text):\n",
        "    tokens = word_tokenize(text) # Splits text into indivdiual words or tokens\n",
        "    tokens = [word.lower() for word in tokens if word.isalpha()]  # Keep alphabetic words only\n",
        "    tokens = [word for word in tokens if word not in stop_words]  # Remove stopwords\n",
        "    tokens = [stemmer.stem(word) for word in tokens]  # Stem words\n",
        "    return tokens\n",
        "\n",
        "processed_texts = [preprocess_text(text) for text in all_texts]"
      ],
      "metadata": {
        "id": "qgfimCILLmli"
      },
      "execution_count": 6,
      "outputs": []
    },
    {
      "cell_type": "code",
      "source": [
        "## Topic Modeling\n",
        "\n",
        "!pip install gensim\n",
        "from gensim import corpora, models\n",
        "\n",
        "# Create dictionary and corpus for topic modeling\n",
        "dictionary = corpora.Dictionary(processed_texts)\n",
        "corpus = [dictionary.doc2bow(text) for text in processed_texts]\n",
        "\n",
        "# Apply LDA model\n",
        "lda_model = models.LdaModel(corpus, num_topics=10, id2word=dictionary, passes=15)\n",
        "topics = lda_model.print_topics(num_words=4)\n",
        "for topic in topics:\n",
        "    print(topic)"
      ],
      "metadata": {
        "colab": {
          "base_uri": "https://localhost:8080/"
        },
        "id": "w2p194tQLwJQ",
        "outputId": "1150307d-9502-4d93-c6a9-62cb4e6af4c1"
      },
      "execution_count": 7,
      "outputs": [
        {
          "output_type": "stream",
          "name": "stdout",
          "text": [
            "Requirement already satisfied: gensim in /usr/local/lib/python3.10/dist-packages (4.3.3)\n",
            "Requirement already satisfied: numpy<2.0,>=1.18.5 in /usr/local/lib/python3.10/dist-packages (from gensim) (1.26.4)\n",
            "Requirement already satisfied: scipy<1.14.0,>=1.7.0 in /usr/local/lib/python3.10/dist-packages (from gensim) (1.13.1)\n",
            "Requirement already satisfied: smart-open>=1.8.1 in /usr/local/lib/python3.10/dist-packages (from gensim) (7.0.5)\n",
            "Requirement already satisfied: wrapt in /usr/local/lib/python3.10/dist-packages (from smart-open>=1.8.1->gensim) (1.17.0)\n",
            "(0, '0.028*\"veteran\" + 0.019*\"care\" + 0.017*\"va\" + 0.014*\"health\"')\n",
            "(1, '0.048*\"suicid\" + 0.018*\"risk\" + 0.012*\"prevent\" + 0.009*\"kill\"')\n",
            "(2, '0.016*\"va\" + 0.012*\"research\" + 0.010*\"care\" + 0.010*\"health\"')\n",
            "(3, '0.020*\"va\" + 0.018*\"care\" + 0.015*\"veteran\" + 0.013*\"caregiv\"')\n",
            "(4, '0.000*\"care\" + 0.000*\"veteran\" + 0.000*\"va\" + 0.000*\"health\"')\n",
            "(5, '0.026*\"care\" + 0.022*\"va\" + 0.017*\"health\" + 0.015*\"patient\"')\n",
            "(6, '0.000*\"care\" + 0.000*\"va\" + 0.000*\"veteran\" + 0.000*\"health\"')\n",
            "(7, '0.029*\"care\" + 0.021*\"veteran\" + 0.019*\"va\" + 0.019*\"health\"')\n",
            "(8, '0.018*\"data\" + 0.015*\"research\" + 0.011*\"va\" + 0.010*\"health\"')\n",
            "(9, '0.022*\"care\" + 0.020*\"va\" + 0.020*\"health\" + 0.017*\"research\"')\n"
          ]
        }
      ]
    },
    {
      "cell_type": "code",
      "source": [
        "from gensim.models.coherencemodel import CoherenceModel\n",
        "\n",
        "coherence_model_lda = CoherenceModel(model=lda_model, texts=processed_texts, dictionary=dictionary, coherence='c_v')\n",
        "coherence_lda = coherence_model_lda.get_coherence()\n",
        "print('\\nCoherence Score:', coherence_lda)"
      ],
      "metadata": {
        "colab": {
          "base_uri": "https://localhost:8080/"
        },
        "id": "qqer4bBQN5AP",
        "outputId": "6a2c366f-beed-4a24-f941-d3a37962ef60"
      },
      "execution_count": 8,
      "outputs": [
        {
          "output_type": "stream",
          "name": "stdout",
          "text": [
            "\n",
            "Coherence Score: 0.32945572929974454\n"
          ]
        }
      ]
    },
    {
      "cell_type": "code",
      "source": [
        "!pip install pyLDAvis\n",
        "import pyLDAvis.gensim_models"
      ],
      "metadata": {
        "colab": {
          "base_uri": "https://localhost:8080/"
        },
        "id": "yvHeW-EpMbMc",
        "outputId": "78d32f31-7fd9-4c43-b3af-d1dd8fc49e85"
      },
      "execution_count": 9,
      "outputs": [
        {
          "output_type": "stream",
          "name": "stdout",
          "text": [
            "Requirement already satisfied: pyLDAvis in /usr/local/lib/python3.10/dist-packages (3.4.1)\n",
            "Requirement already satisfied: numpy>=1.24.2 in /usr/local/lib/python3.10/dist-packages (from pyLDAvis) (1.26.4)\n",
            "Requirement already satisfied: scipy in /usr/local/lib/python3.10/dist-packages (from pyLDAvis) (1.13.1)\n",
            "Requirement already satisfied: pandas>=2.0.0 in /usr/local/lib/python3.10/dist-packages (from pyLDAvis) (2.2.2)\n",
            "Requirement already satisfied: joblib>=1.2.0 in /usr/local/lib/python3.10/dist-packages (from pyLDAvis) (1.4.2)\n",
            "Requirement already satisfied: jinja2 in /usr/local/lib/python3.10/dist-packages (from pyLDAvis) (3.1.4)\n",
            "Requirement already satisfied: numexpr in /usr/local/lib/python3.10/dist-packages (from pyLDAvis) (2.10.2)\n",
            "Requirement already satisfied: funcy in /usr/local/lib/python3.10/dist-packages (from pyLDAvis) (2.0)\n",
            "Requirement already satisfied: scikit-learn>=1.0.0 in /usr/local/lib/python3.10/dist-packages (from pyLDAvis) (1.5.2)\n",
            "Requirement already satisfied: gensim in /usr/local/lib/python3.10/dist-packages (from pyLDAvis) (4.3.3)\n",
            "Requirement already satisfied: setuptools in /usr/local/lib/python3.10/dist-packages (from pyLDAvis) (75.1.0)\n",
            "Requirement already satisfied: python-dateutil>=2.8.2 in /usr/local/lib/python3.10/dist-packages (from pandas>=2.0.0->pyLDAvis) (2.8.2)\n",
            "Requirement already satisfied: pytz>=2020.1 in /usr/local/lib/python3.10/dist-packages (from pandas>=2.0.0->pyLDAvis) (2024.2)\n",
            "Requirement already satisfied: tzdata>=2022.7 in /usr/local/lib/python3.10/dist-packages (from pandas>=2.0.0->pyLDAvis) (2024.2)\n",
            "Requirement already satisfied: threadpoolctl>=3.1.0 in /usr/local/lib/python3.10/dist-packages (from scikit-learn>=1.0.0->pyLDAvis) (3.5.0)\n",
            "Requirement already satisfied: smart-open>=1.8.1 in /usr/local/lib/python3.10/dist-packages (from gensim->pyLDAvis) (7.0.5)\n",
            "Requirement already satisfied: MarkupSafe>=2.0 in /usr/local/lib/python3.10/dist-packages (from jinja2->pyLDAvis) (3.0.2)\n",
            "Requirement already satisfied: six>=1.5 in /usr/local/lib/python3.10/dist-packages (from python-dateutil>=2.8.2->pandas>=2.0.0->pyLDAvis) (1.16.0)\n",
            "Requirement already satisfied: wrapt in /usr/local/lib/python3.10/dist-packages (from smart-open>=1.8.1->gensim->pyLDAvis) (1.17.0)\n"
          ]
        }
      ]
    },
    {
      "cell_type": "code",
      "source": [
        "# Link Trends to Specific Years\n",
        "\n",
        "import re\n",
        "\n",
        "# Extract Date from Filename\n",
        "def extract_date_from_filename(filename):\n",
        "    match = re.search(r'\\d{4}', filename)\n",
        "    if match:\n",
        "        return match.group()\n",
        "    return None\n",
        "\n",
        "# Create a list of tuples (year, text)\n",
        "texts_with_dates = [(extract_date_from_filename(file), text) for file, text in zip(files, all_texts)]"
      ],
      "metadata": {
        "colab": {
          "base_uri": "https://localhost:8080/"
        },
        "id": "sJZC3hA0OUvw",
        "outputId": "cc3899f5-ac47-4ef4-c97f-fccf4bb64f2f"
      },
      "execution_count": 10,
      "outputs": [
        {
          "output_type": "stream",
          "name": "stderr",
          "text": [
            "/usr/local/lib/python3.10/dist-packages/ipykernel/ipkernel.py:283: DeprecationWarning: `should_run_async` will not call `transform_cell` automatically in the future. Please pass the result to `transformed_cell` argument and any exception that happen during thetransform in `preprocessing_exc_tuple` in IPython 7.17 and above.\n",
            "  and should_run_async(code)\n"
          ]
        }
      ]
    },
    {
      "cell_type": "code",
      "source": [
        "# Aggregate Texts by Year\n",
        "\n",
        "from collections import defaultdict\n",
        "\n",
        "# Aggregate texts by year\n",
        "texts_by_year = defaultdict(list)\n",
        "for year, text in texts_with_dates:\n",
        "    texts_by_year[year].append(text)\n",
        "\n",
        "# Concatenate texts of the same year\n",
        "concatenated_texts_by_year = {year: ' '.join(texts) for year, texts in texts_by_year.items()}"
      ],
      "metadata": {
        "colab": {
          "base_uri": "https://localhost:8080/"
        },
        "id": "tHz-QEkIOpwX",
        "outputId": "db1ade51-7fad-48ba-8020-7deef211a787"
      },
      "execution_count": 11,
      "outputs": [
        {
          "output_type": "stream",
          "name": "stderr",
          "text": [
            "/usr/local/lib/python3.10/dist-packages/ipykernel/ipkernel.py:283: DeprecationWarning: `should_run_async` will not call `transform_cell` automatically in the future. Please pass the result to `transformed_cell` argument and any exception that happen during thetransform in `preprocessing_exc_tuple` in IPython 7.17 and above.\n",
            "  and should_run_async(code)\n"
          ]
        }
      ]
    },
    {
      "cell_type": "code",
      "source": [
        "# Process and Model Each Year's\n",
        "processed_texts_by_year = {year: preprocess_text(text) for year, text in concatenated_texts_by_year.items()}\n",
        "\n",
        "# Create dictionary and corpus for each year, and apply LDA model\n",
        "lda_models_by_year = {}\n",
        "for year, texts in processed_texts_by_year.items():\n",
        "    dictionary = corpora.Dictionary([texts])\n",
        "    corpus = [dictionary.doc2bow(texts)]\n",
        "    lda_model = models.LdaModel(corpus, num_topics=5, id2word=dictionary, passes=15)\n",
        "    lda_models_by_year[year] = lda_model"
      ],
      "metadata": {
        "colab": {
          "base_uri": "https://localhost:8080/"
        },
        "id": "QCnJjAALPCIc",
        "outputId": "78f38690-71fe-4197-8121-aea877e6fd39"
      },
      "execution_count": 12,
      "outputs": [
        {
          "output_type": "stream",
          "name": "stderr",
          "text": [
            "/usr/local/lib/python3.10/dist-packages/ipykernel/ipkernel.py:283: DeprecationWarning: `should_run_async` will not call `transform_cell` automatically in the future. Please pass the result to `transformed_cell` argument and any exception that happen during thetransform in `preprocessing_exc_tuple` in IPython 7.17 and above.\n",
            "  and should_run_async(code)\n"
          ]
        }
      ]
    },
    {
      "cell_type": "code",
      "source": [
        "# Analyze Topic Changes Over Time\n",
        "\n",
        "for year, model in lda_models_by_year.items():\n",
        "    print(f\"Year: {year}\")\n",
        "    topics = model.print_topics(num_words=4)\n",
        "    for topic in topics:\n",
        "        print(topic)"
      ],
      "metadata": {
        "colab": {
          "base_uri": "https://localhost:8080/"
        },
        "id": "260L4QSNPMnB",
        "outputId": "24f1927d-afd0-429b-900f-5cf855a0ceaa"
      },
      "execution_count": 13,
      "outputs": [
        {
          "output_type": "stream",
          "name": "stdout",
          "text": [
            "Year: None\n",
            "(0, '0.001*\"care\" + 0.001*\"research\" + 0.001*\"va\" + 0.001*\"health\"')\n",
            "(1, '0.002*\"care\" + 0.001*\"va\" + 0.001*\"health\" + 0.001*\"research\"')\n",
            "(2, '0.027*\"care\" + 0.020*\"va\" + 0.019*\"health\" + 0.015*\"research\"')\n",
            "(3, '0.001*\"care\" + 0.001*\"va\" + 0.001*\"health\" + 0.001*\"research\"')\n",
            "(4, '0.000*\"care\" + 0.000*\"va\" + 0.000*\"research\" + 0.000*\"health\"')\n",
            "Year: 2024\n",
            "(0, '0.001*\"veteran\" + 0.001*\"homeless\" + 0.001*\"suicid\" + 0.001*\"care\"')\n",
            "(1, '0.001*\"veteran\" + 0.001*\"va\" + 0.001*\"suicid\" + 0.001*\"care\"')\n",
            "(2, '0.001*\"veteran\" + 0.001*\"homeless\" + 0.001*\"va\" + 0.001*\"health\"')\n",
            "(3, '0.001*\"veteran\" + 0.001*\"va\" + 0.000*\"suicid\" + 0.000*\"care\"')\n",
            "(4, '0.028*\"veteran\" + 0.015*\"va\" + 0.013*\"homeless\" + 0.013*\"suicid\"')\n",
            "Year: 2023\n",
            "(0, '0.003*\"va\" + 0.002*\"care\" + 0.002*\"veteran\" + 0.002*\"caregiv\"')\n",
            "(1, '0.027*\"va\" + 0.025*\"care\" + 0.023*\"veteran\" + 0.018*\"caregiv\"')\n",
            "(2, '0.001*\"va\" + 0.001*\"care\" + 0.001*\"veteran\" + 0.001*\"caregiv\"')\n",
            "(3, '0.001*\"va\" + 0.001*\"care\" + 0.001*\"veteran\" + 0.001*\"caregiv\"')\n",
            "(4, '0.001*\"va\" + 0.001*\"care\" + 0.001*\"veteran\" + 0.001*\"caregiv\"')\n",
            "Year: 2022\n",
            "(0, '0.001*\"va\" + 0.001*\"veteran\" + 0.001*\"health\" + 0.001*\"care\"')\n",
            "(1, '0.022*\"care\" + 0.022*\"va\" + 0.022*\"veteran\" + 0.017*\"health\"')\n",
            "(2, '0.001*\"va\" + 0.001*\"veteran\" + 0.001*\"care\" + 0.001*\"health\"')\n",
            "(3, '0.001*\"va\" + 0.001*\"veteran\" + 0.001*\"care\" + 0.001*\"health\"')\n",
            "(4, '0.001*\"care\" + 0.001*\"va\" + 0.001*\"veteran\" + 0.001*\"health\"')\n",
            "Year: 2021\n",
            "(0, '0.001*\"veteran\" + 0.001*\"health\" + 0.001*\"care\" + 0.000*\"va\"')\n",
            "(1, '0.001*\"health\" + 0.001*\"care\" + 0.001*\"veteran\" + 0.001*\"va\"')\n",
            "(2, '0.001*\"veteran\" + 0.001*\"va\" + 0.001*\"health\" + 0.001*\"care\"')\n",
            "(3, '0.025*\"veteran\" + 0.020*\"va\" + 0.020*\"health\" + 0.017*\"care\"')\n",
            "(4, '0.001*\"veteran\" + 0.001*\"health\" + 0.001*\"va\" + 0.001*\"care\"')\n",
            "Year: 2020\n",
            "(0, '0.001*\"va\" + 0.001*\"care\" + 0.001*\"veteran\" + 0.001*\"use\"')\n",
            "(1, '0.001*\"use\" + 0.001*\"veteran\" + 0.001*\"care\" + 0.001*\"health\"')\n",
            "(2, '0.001*\"use\" + 0.001*\"veteran\" + 0.001*\"care\" + 0.001*\"va\"')\n",
            "(3, '0.001*\"veteran\" + 0.001*\"care\" + 0.001*\"use\" + 0.001*\"health\"')\n",
            "(4, '0.019*\"veteran\" + 0.017*\"use\" + 0.016*\"care\" + 0.014*\"va\"')\n",
            "Year: 2019\n",
            "(0, '0.001*\"care\" + 0.001*\"va\" + 0.001*\"veteran\" + 0.001*\"health\"')\n",
            "(1, '0.001*\"care\" + 0.001*\"va\" + 0.001*\"veteran\" + 0.001*\"access\"')\n",
            "(2, '0.001*\"care\" + 0.001*\"veteran\" + 0.001*\"va\" + 0.001*\"provid\"')\n",
            "(3, '0.001*\"care\" + 0.001*\"veteran\" + 0.001*\"va\" + 0.001*\"access\"')\n",
            "(4, '0.036*\"care\" + 0.024*\"va\" + 0.022*\"veteran\" + 0.014*\"access\"')\n",
            "Year: 2018\n",
            "(0, '0.001*\"va\" + 0.001*\"veteran\" + 0.001*\"suicid\" + 0.001*\"innov\"')\n",
            "(1, '0.001*\"suicid\" + 0.001*\"va\" + 0.001*\"health\" + 0.001*\"veteran\"')\n",
            "(2, '0.017*\"va\" + 0.017*\"veteran\" + 0.015*\"suicid\" + 0.013*\"health\"')\n",
            "(3, '0.001*\"va\" + 0.001*\"veteran\" + 0.001*\"research\" + 0.001*\"suicid\"')\n",
            "(4, '0.001*\"suicid\" + 0.001*\"va\" + 0.000*\"research\" + 0.000*\"innov\"')\n",
            "Year: 2017\n",
            "(0, '0.001*\"care\" + 0.001*\"health\" + 0.001*\"va\" + 0.001*\"veteran\"')\n",
            "(1, '0.001*\"care\" + 0.001*\"va\" + 0.001*\"rural\" + 0.001*\"health\"')\n",
            "(2, '0.002*\"care\" + 0.001*\"va\" + 0.001*\"health\" + 0.001*\"veteran\"')\n",
            "(3, '0.001*\"care\" + 0.001*\"veteran\" + 0.001*\"health\" + 0.001*\"va\"')\n",
            "(4, '0.038*\"care\" + 0.020*\"veteran\" + 0.020*\"va\" + 0.019*\"health\"')\n",
            "Year: 2016\n",
            "(0, '0.039*\"pain\" + 0.024*\"opioid\" + 0.017*\"va\" + 0.016*\"health\"')\n",
            "(1, '0.001*\"pain\" + 0.001*\"opioid\" + 0.001*\"va\" + 0.001*\"research\"')\n",
            "(2, '0.002*\"pain\" + 0.001*\"opioid\" + 0.001*\"research\" + 0.001*\"va\"')\n",
            "(3, '0.001*\"pain\" + 0.001*\"opioid\" + 0.001*\"care\" + 0.001*\"research\"')\n",
            "(4, '0.001*\"pain\" + 0.001*\"opioid\" + 0.001*\"research\" + 0.001*\"health\"')\n"
          ]
        },
        {
          "output_type": "stream",
          "name": "stderr",
          "text": [
            "/usr/local/lib/python3.10/dist-packages/ipykernel/ipkernel.py:283: DeprecationWarning: `should_run_async` will not call `transform_cell` automatically in the future. Please pass the result to `transformed_cell` argument and any exception that happen during thetransform in `preprocessing_exc_tuple` in IPython 7.17 and above.\n",
            "  and should_run_async(code)\n"
          ]
        }
      ]
    },
    {
      "cell_type": "code",
      "source": [
        "import re\n",
        "\n",
        "topic_weights = {}\n",
        "\n",
        "for year, model in lda_models_by_year.items():\n",
        "    topic_weights[year] = {}\n",
        "    # Get topic information from the model using print_topics\n",
        "    topics = model.print_topics(num_words=4)\n",
        "    for topic_info in topics:\n",
        "        _, description = topic_info\n",
        "        words_weights = description.split('+')\n",
        "        for word_weight in words_weights:\n",
        "            weight, word = word_weight.split('*')\n",
        "            word = word.strip().replace('\"', '')  # Clean the word to remove extra quotes\n",
        "            weight = float(weight.strip())\n",
        "            if word in topic_weights[year]:\n",
        "                topic_weights[year][word] += weight  # Sum weights if word appears in multiple topics\n",
        "            else:\n",
        "                topic_weights[year][word] = weight"
      ],
      "metadata": {
        "colab": {
          "base_uri": "https://localhost:8080/"
        },
        "id": "klNl1UsNQFh_",
        "outputId": "a4cde175-2ec2-4e77-bfda-f5f0fd2c2a51"
      },
      "execution_count": 14,
      "outputs": [
        {
          "output_type": "stream",
          "name": "stderr",
          "text": [
            "/usr/local/lib/python3.10/dist-packages/ipykernel/ipkernel.py:283: DeprecationWarning: `should_run_async` will not call `transform_cell` automatically in the future. Please pass the result to `transformed_cell` argument and any exception that happen during thetransform in `preprocessing_exc_tuple` in IPython 7.17 and above.\n",
            "  and should_run_async(code)\n"
          ]
        }
      ]
    },
    {
      "cell_type": "code",
      "source": [
        "# Get a list of all PDF files in the folder\n",
        "pdf_file_paths = [os.path.join(folder_path, file_name) for file_name in os.listdir(folder_path) if file_name.lower().endswith('.pdf')]\n",
        "\n",
        "extracted_texts = [extract_text_from_pdf(file_path) for file_path in pdf_file_paths]"
      ],
      "metadata": {
        "colab": {
          "base_uri": "https://localhost:8080/"
        },
        "id": "BVJm6AJJHcwA",
        "outputId": "05997e7f-48c3-4ddd-a6d6-7a52f6468de0"
      },
      "execution_count": 15,
      "outputs": [
        {
          "output_type": "stream",
          "name": "stderr",
          "text": [
            "/usr/local/lib/python3.10/dist-packages/ipykernel/ipkernel.py:283: DeprecationWarning: `should_run_async` will not call `transform_cell` automatically in the future. Please pass the result to `transformed_cell` argument and any exception that happen during thetransform in `preprocessing_exc_tuple` in IPython 7.17 and above.\n",
            "  and should_run_async(code)\n"
          ]
        }
      ]
    },
    {
      "cell_type": "code",
      "source": [
        "from nltk.corpus import stopwords\n",
        "from nltk.tokenize import word_tokenize\n",
        "from nltk.stem import PorterStemmer\n",
        "\n",
        "stop_words = set(stopwords.words('english'))\n",
        "stemmer = PorterStemmer()\n",
        "\n",
        "def preprocess_text(text):\n",
        "    tokens = word_tokenize(text.lower())\n",
        "    filtered_tokens = [stemmer.stem(word) for word in tokens if word.isalpha() and word not in stop_words]\n",
        "    return ' '.join(filtered_tokens)\n",
        "\n",
        "# Preprocess all extracted texts\n",
        "processed_texts = [preprocess_text(text) for text in extracted_texts]\n",
        "\n",
        "from collections import defaultdict\n",
        "\n",
        "texts_by_year = defaultdict(list)\n",
        "for year, text in texts_with_dates:\n",
        "    if year:\n",
        "        texts_by_year[year].append(preprocess_text(text))\n",
        "\n",
        "# Flatten grouped texts for analysis\n",
        "corpus = [' '.join(docs) for docs in texts_by_year.values()]\n",
        "for i, doc in enumerate(corpus[:5]):\n",
        "    print(f\"Document {i + 1}:\", doc[:200], \"...\\n\")\n",
        "\n",
        "from sklearn.feature_extraction.text import TfidfVectorizer\n",
        "\n",
        "vectorizer = TfidfVectorizer(stop_words='english', max_features=10)\n",
        "tfidf_matrix = vectorizer.fit_transform(corpus)\n",
        "\n",
        "# Extract terms and scores\n",
        "feature_names = vectorizer.get_feature_names_out()\n",
        "scores = tfidf_matrix.sum(axis=0).A1  # Sum scores for each term\n",
        "\n",
        "import matplotlib.pyplot as plt\n",
        "import pandas as pd\n",
        "\n",
        "# Create DataFrame for terms and scores\n",
        "term_scores = pd.DataFrame({'term': feature_names, 'score': scores}).sort_values(by='score', ascending=False)\n",
        "\n",
        "# Plot the top 10 terms\n",
        "plt.figure(figsize=(10, 5))\n",
        "plt.bar(term_scores['term'], term_scores['score'], color='skyblue')\n",
        "plt.title('Top 10 Most Salient Terms in Forum Documents')\n",
        "plt.xlabel('Terms')\n",
        "plt.ylabel('TF-IDF Score')\n",
        "plt.xticks(rotation=45)\n",
        "plt.show()"
      ],
      "metadata": {
        "colab": {
          "base_uri": "https://localhost:8080/",
          "height": 754
        },
        "id": "lQBwV-nb369R",
        "outputId": "b42cd2c1-2ee8-4ef3-bea0-de35389c79c1"
      },
      "execution_count": 16,
      "outputs": [
        {
          "output_type": "stream",
          "name": "stderr",
          "text": [
            "/usr/local/lib/python3.10/dist-packages/ipykernel/ipkernel.py:283: DeprecationWarning: `should_run_async` will not call `transform_cell` automatically in the future. Please pass the result to `transformed_cell` argument and any exception that happen during thetransform in `preprocessing_exc_tuple` in IPython 7.17 and above.\n",
            "  and should_run_async(code)\n"
          ]
        },
        {
          "output_type": "stream",
          "name": "stdout",
          "text": [
            "Document 1: veteran homeless countri fought defend va commit end homeless among veteran nation duti ensur veteran place call home although signific progress made prevent end veteran homeless recent data depart ho ...\n",
            "\n",
            "Document 2: potenti precis oncolog access promis precis implement challeng incorpor precis medicin effort understand factor enhanc cancer detect diagnosi medicin lesson learn impact pharmacogenom test va healthca ...\n",
            "\n",
            "Document 3: critic role va health servic menopaus transit oppor use share understand pregnanc engag women veteran research play partnership tuniti prevent intervent individu mental health servic matern care women ...\n",
            "\n",
            "Document 4: veteran health administr vha made commit whole health approach healthcar empow equip veteran take charg health live live commit respons recognit countri built healthcar system effect treat mani diseas ...\n",
            "\n",
            "Document 5: tumultu time requir novel anthropolog offer insight whole health improv veteran research point import studi point racial ethnic tool partnership maintain think scienc experi va commun care patient dis ...\n",
            "\n"
          ]
        },
        {
          "output_type": "display_data",
          "data": {
            "text/plain": [
              "<Figure size 1000x500 with 1 Axes>"
            ],
            "image/png": "[encoded data removed]"
          },
          "metadata": {}
        }
      ]
    },
    {
      "cell_type": "code",
      "source": [
        "from sklearn.feature_extraction.text import TfidfVectorizer\n",
        "from nltk.corpus import stopwords\n",
        "from nltk.stem import WordNetLemmatizer\n",
        "from nltk.tokenize import word_tokenize\n",
        "import matplotlib.pyplot as plt\n",
        "import pandas as pd\n",
        "\n",
        "# Preprocessing function\n",
        "stop_words = set(stopwords.words('english'))\n",
        "custom_stop_words = {'va', 'health', 'care', 'phd', 'safety', 'innovation', 'decision', 'performance', 'research', 'service', 'technology', 'md', 'communication', 'center'}\n",
        "stop_words.update(custom_stop_words)\n",
        "\n",
        "lemmatizer = WordNetLemmatizer()\n",
        "\n",
        "def preprocess_text(text):\n",
        "    tokens = word_tokenize(text.lower())\n",
        "    filtered_tokens = [lemmatizer.lemmatize(word) for word in tokens if word.isalpha() and word not in stop_words]\n",
        "    return ' '.join(filtered_tokens)\n",
        "\n",
        "corpus = [preprocess_text(doc) for doc in extracted_texts]\n",
        "\n",
        "# TF-IDF Vectorizer\n",
        "vectorizer = TfidfVectorizer(stop_words='english', ngram_range=(1, 2), max_df=0.8, min_df=2, max_features=10)\n",
        "tfidf_matrix = vectorizer.fit_transform(corpus)\n",
        "\n",
        "# Extract terms and scores\n",
        "feature_names = vectorizer.get_feature_names_out()\n",
        "scores = tfidf_matrix.sum(axis=0).A1\n",
        "\n",
        "# Create DataFrame\n",
        "term_scores = pd.DataFrame({'term': feature_names, 'score': scores}).sort_values(by='score', ascending=False)\n",
        "\n",
        "# Plot Top Terms\n",
        "plt.figure(figsize=(10, 5))\n",
        "plt.bar(term_scores['term'], term_scores['score'], color='skyblue')\n",
        "plt.title('Top 10 Most Salient Terms in Forum Documents')\n",
        "plt.xlabel('Terms')\n",
        "plt.ylabel('TF-IDF Score')\n",
        "plt.xticks(rotation=45)\n",
        "plt.show()"
      ],
      "metadata": {
        "colab": {
          "base_uri": "https://localhost:8080/",
          "height": 591
        },
        "id": "ixhUACOI3T84",
        "outputId": "9122d628-1270-410f-9d5b-93a92fc09372"
      },
      "execution_count": 17,
      "outputs": [
        {
          "output_type": "stream",
          "name": "stderr",
          "text": [
            "/usr/local/lib/python3.10/dist-packages/ipykernel/ipkernel.py:283: DeprecationWarning: `should_run_async` will not call `transform_cell` automatically in the future. Please pass the result to `transformed_cell` argument and any exception that happen during thetransform in `preprocessing_exc_tuple` in IPython 7.17 and above.\n",
            "  and should_run_async(code)\n"
          ]
        },
        {
          "output_type": "display_data",
          "data": {
            "text/plain": [
              "<Figure size 1000x500 with 1 Axes>"
            ],
            "image/png": "[encoded data removed]"
          },
          "metadata": {}
        }
      ]
    },
    {
      "cell_type": "code",
      "source": [
        "from collections import defaultdict, Counter\n",
        "\n",
        "# Define list of telehealth-related terms\n",
        "telehealth_terms = [\"telehealth\", \"telemedicine\", \"virtual care\", \"remote monitoring\",\n",
        "                     \"online consultation\", \"digital health\", \"mhealth\"]\n",
        "\n",
        "# Create dictionary to store documents by year\n",
        "documents_by_year = defaultdict(list)\n",
        "\n",
        "for year, text in texts_with_dates:\n",
        "    if year:  # Check if year is not None\n",
        "        documents_by_year[year].append(text)\n",
        "\n",
        "# Calculate frequency of telehealth-related terms per year\n",
        "telehealth_freq = {}\n",
        "for year, docs in documents_by_year.items():\n",
        "    year_counter = Counter()\n",
        "    for doc in docs:\n",
        "        words = doc.split()\n",
        "        year_counter.update(words)\n",
        "    telehealth_freq[year] = sum(year_counter.get(term, 0) for term in telehealth_terms)\n",
        "\n",
        "# Plot frequencies\n",
        "years = sorted(telehealth_freq.keys())\n",
        "values = [telehealth_freq[year] for year in years]\n",
        "\n",
        "plt.figure(figsize=(10, 5))\n",
        "plt.bar(years, values, color='green')\n",
        "plt.title('Frequency of Telehealth-related Terms Over Years')\n",
        "plt.xlabel('Year')\n",
        "plt.ylabel('Frequency')\n",
        "plt.grid(True)\n",
        "plt.show()"
      ],
      "metadata": {
        "colab": {
          "base_uri": "https://localhost:8080/",
          "height": 542
        },
        "id": "_gEIJa21SPsr",
        "outputId": "7c31a328-6aab-494d-c977-0685d5755595"
      },
      "execution_count": 18,
      "outputs": [
        {
          "output_type": "stream",
          "name": "stderr",
          "text": [
            "/usr/local/lib/python3.10/dist-packages/ipykernel/ipkernel.py:283: DeprecationWarning: `should_run_async` will not call `transform_cell` automatically in the future. Please pass the result to `transformed_cell` argument and any exception that happen during thetransform in `preprocessing_exc_tuple` in IPython 7.17 and above.\n",
            "  and should_run_async(code)\n"
          ]
        },
        {
          "output_type": "display_data",
          "data": {
            "text/plain": [
              "<Figure size 1000x500 with 1 Axes>"
            ],
            "image/png": "[encoded data removed]"
          },
          "metadata": {}
        }
      ]
    },
    {
      "cell_type": "code",
      "source": [
        "# Sentiment Analysis of Telehealth Over Years\n",
        "\n",
        "telehealth_sentences_by_year = {}\n",
        "\n",
        "for year, docs in documents_by_year.items():\n",
        "    telehealth_sentences_by_year[year] = []\n",
        "    for doc in docs:\n",
        "        sentences = doc.split('. ')  # Split text into sentences\n",
        "        for sentence in sentences:\n",
        "            if any(term in sentence.lower() for term in telehealth_terms):\n",
        "                telehealth_sentences_by_year[year].append(sentence)\n"
      ],
      "metadata": {
        "colab": {
          "base_uri": "https://localhost:8080/"
        },
        "id": "XoOMCL6CTIMT",
        "outputId": "07b0e560-1ddd-41f8-e000-134f47ecf951"
      },
      "execution_count": 19,
      "outputs": [
        {
          "output_type": "stream",
          "name": "stderr",
          "text": [
            "/usr/local/lib/python3.10/dist-packages/ipykernel/ipkernel.py:283: DeprecationWarning: `should_run_async` will not call `transform_cell` automatically in the future. Please pass the result to `transformed_cell` argument and any exception that happen during thetransform in `preprocessing_exc_tuple` in IPython 7.17 and above.\n",
            "  and should_run_async(code)\n"
          ]
        }
      ]
    },
    {
      "cell_type": "code",
      "source": [
        "from nltk.sentiment.vader import SentimentIntensityAnalyzer\n",
        "from statistics import mean\n",
        "\n",
        "# Initialize VADER sentiment analyzer\n",
        "nltk.download('vader_lexicon')\n",
        "sid = SentimentIntensityAnalyzer()\n",
        "\n",
        "# Analyze sentiment for telehealth-related sentences\n",
        "sentiment_scores_by_year = {}\n",
        "\n",
        "for year, sentences in telehealth_sentences_by_year.items():\n",
        "    sentiments = [sid.polarity_scores(sentence)['compound'] for sentence in sentences]\n",
        "    if sentiments:\n",
        "        sentiment_scores_by_year[year] = mean(sentiments)  # Average sentiment score\n",
        "    else:\n",
        "        sentiment_scores_by_year[year] = 0  # Default to neutral if no sentences"
      ],
      "metadata": {
        "colab": {
          "base_uri": "https://localhost:8080/"
        },
        "id": "axyAodSiTOAd",
        "outputId": "b25e7ae7-668f-49b6-f21a-9d5e7af25aaa"
      },
      "execution_count": 20,
      "outputs": [
        {
          "output_type": "stream",
          "name": "stderr",
          "text": [
            "/usr/local/lib/python3.10/dist-packages/ipykernel/ipkernel.py:283: DeprecationWarning: `should_run_async` will not call `transform_cell` automatically in the future. Please pass the result to `transformed_cell` argument and any exception that happen during thetransform in `preprocessing_exc_tuple` in IPython 7.17 and above.\n",
            "  and should_run_async(code)\n",
            "[nltk_data] Downloading package vader_lexicon to /root/nltk_data...\n",
            "[nltk_data]   Package vader_lexicon is already up-to-date!\n"
          ]
        }
      ]
    },
    {
      "cell_type": "code",
      "source": [
        "import matplotlib.pyplot as plt\n",
        "\n",
        "years = sorted(sentiment_scores_by_year.keys())\n",
        "scores = [sentiment_scores_by_year[year] for year in years]\n",
        "\n",
        "plt.figure(figsize=(10, 5))\n",
        "plt.plot(years, scores, marker='o', linestyle='-')\n",
        "plt.title('Sentiment Trends Over Time')\n",
        "plt.xlabel('Year')\n",
        "plt.ylabel('Average Sentiment Score')\n",
        "plt.grid(True)\n",
        "plt.axhline(0, color='black', linestyle='--', linewidth=0.7)  # Neutral sentiment line\n",
        "plt.show()"
      ],
      "metadata": {
        "colab": {
          "base_uri": "https://localhost:8080/",
          "height": 542
        },
        "id": "UXA_JCInTQ4E",
        "outputId": "69ae0cf8-3505-4bcd-b856-539767af0dc6"
      },
      "execution_count": 21,
      "outputs": [
        {
          "output_type": "stream",
          "name": "stderr",
          "text": [
            "/usr/local/lib/python3.10/dist-packages/ipykernel/ipkernel.py:283: DeprecationWarning: `should_run_async` will not call `transform_cell` automatically in the future. Please pass the result to `transformed_cell` argument and any exception that happen during thetransform in `preprocessing_exc_tuple` in IPython 7.17 and above.\n",
            "  and should_run_async(code)\n"
          ]
        },
        {
          "output_type": "display_data",
          "data": {
            "text/plain": [
              "<Figure size 1000x500 with 1 Axes>"
            ],
            "image/png": "[encoded data removed]"
          },
          "metadata": {}
        }
      ]
    },
    {
      "cell_type": "code",
      "source": [
        "import numpy as np\n",
        "import pandas as pd\n",
        "import tensorflow as tf\n",
        "from tensorflow.keras.preprocessing.text import Tokenizer\n",
        "from tensorflow.keras.preprocessing.sequence import pad_sequences\n",
        "from sklearn.model_selection import train_test_split\n",
        "\n",
        "labels = [0] * len(texts)  # Example: Assigning all labels to 0 initially\n",
        "\n",
        "# Create a NumPy array from texts and labels\n",
        "data = np.array(list(zip(texts, labels)))\n",
        "\n",
        "texts = data[:, 0].astype(str).tolist()\n",
        "labels = data[:, 1].tolist()\n",
        "\n",
        "# Tokenizing and padding sequences\n",
        "tokenizer = Tokenizer(num_words=10000, oov_token=\"<OOV>\")\n",
        "tokenizer.fit_on_texts(texts)\n",
        "sequences = tokenizer.texts_to_sequences(texts)\n",
        "padded_sequences = pad_sequences(sequences, maxlen=250, padding='post', truncating='post')\n",
        "\n",
        "# Splitting data into training and testing sets\n",
        "X_train, X_test, y_train, y_test = train_test_split(padded_sequences, labels, test_size=0.2, random_state=42)"
      ],
      "metadata": {
        "colab": {
          "base_uri": "https://localhost:8080/"
        },
        "id": "pp9azZ76NwXI",
        "outputId": "505f9f41-a3ca-4be3-af61-ca18d9988055"
      },
      "execution_count": 22,
      "outputs": [
        {
          "output_type": "stream",
          "name": "stderr",
          "text": [
            "/usr/local/lib/python3.10/dist-packages/ipykernel/ipkernel.py:283: DeprecationWarning: `should_run_async` will not call `transform_cell` automatically in the future. Please pass the result to `transformed_cell` argument and any exception that happen during thetransform in `preprocessing_exc_tuple` in IPython 7.17 and above.\n",
            "  and should_run_async(code)\n"
          ]
        }
      ]
    },
    {
      "cell_type": "code",
      "source": [
        "# Building the LSTM model\n",
        "model_lstm = tf.keras.Sequential([\n",
        "    tf.keras.layers.Embedding(input_dim=10000, output_dim=64, input_length=250),\n",
        "    tf.keras.layers.LSTM(64, return_sequences=True),\n",
        "    tf.keras.layers.LSTM(32),\n",
        "    tf.keras.layers.Dense(16, activation='relu'),\n",
        "    tf.keras.layers.Dense(1, activation='sigmoid')\n",
        "])\n",
        "\n",
        "model_lstm.compile(loss='binary_crossentropy', optimizer='adam', metrics=['accuracy'])\n",
        "model_lstm.summary()"
      ],
      "metadata": {
        "colab": {
          "base_uri": "https://localhost:8080/",
          "height": 383
        },
        "id": "SZmLVjLcNweZ",
        "outputId": "33f8529b-32c5-47cc-995c-30d147b72425"
      },
      "execution_count": 23,
      "outputs": [
        {
          "output_type": "stream",
          "name": "stderr",
          "text": [
            "/usr/local/lib/python3.10/dist-packages/ipykernel/ipkernel.py:283: DeprecationWarning: `should_run_async` will not call `transform_cell` automatically in the future. Please pass the result to `transformed_cell` argument and any exception that happen during thetransform in `preprocessing_exc_tuple` in IPython 7.17 and above.\n",
            "  and should_run_async(code)\n",
            "/usr/local/lib/python3.10/dist-packages/keras/src/layers/core/embedding.py:90: UserWarning: Argument `input_length` is deprecated. Just remove it.\n",
            "  warnings.warn(\n"
          ]
        },
        {
          "output_type": "display_data",
          "data": {
            "text/plain": [
              "\u001b[1mModel: \"sequential\"\u001b[0m\n"
            ],
            "text/html": [
              "<pre style=\"white-space:pre;overflow-x:auto;line-height:normal;font-family:Menlo,'DejaVu Sans Mono',consolas,'Courier New',monospace\"><span style=\"font-weight: bold\">Model: \"sequential\"</span>\n",
              "</pre>\n"
            ]
          },
          "metadata": {}
        },
        {
          "output_type": "display_data",
          "data": {
            "text/plain": [
              "┏━━━━━━━━━━━━━━━━━━━━━━━━━━━━━━━━━━━━━━┳━━━━━━━━━━━━━━━━━━━━━━━━━━━━━┳━━━━━━━━━━━━━━━━━┓\n",
              "┃\u001b[1m \u001b[0m\u001b[1mLayer (type)                        \u001b[0m\u001b[1m \u001b[0m┃\u001b[1m \u001b[0m\u001b[1mOutput Shape               \u001b[0m\u001b[1m \u001b[0m┃\u001b[1m \u001b[0m\u001b[1m        Param #\u001b[0m\u001b[1m \u001b[0m┃\n",
              "┡━━━━━━━━━━━━━━━━━━━━━━━━━━━━━━━━━━━━━━╇━━━━━━━━━━━━━━━━━━━━━━━━━━━━━╇━━━━━━━━━━━━━━━━━┩\n",
              "│ embedding (\u001b[38;5;33mEmbedding\u001b[0m)                │ ?                           │     \u001b[38;5;34m0\u001b[0m (unbuilt) │\n",
              "├──────────────────────────────────────┼─────────────────────────────┼─────────────────┤\n",
              "│ lstm (\u001b[38;5;33mLSTM\u001b[0m)                          │ ?                           │     \u001b[38;5;34m0\u001b[0m (unbuilt) │\n",
              "├──────────────────────────────────────┼─────────────────────────────┼─────────────────┤\n",
              "│ lstm_1 (\u001b[38;5;33mLSTM\u001b[0m)                        │ ?                           │     \u001b[38;5;34m0\u001b[0m (unbuilt) │\n",
              "├──────────────────────────────────────┼─────────────────────────────┼─────────────────┤\n",
              "│ dense (\u001b[38;5;33mDense\u001b[0m)                        │ ?                           │     \u001b[38;5;34m0\u001b[0m (unbuilt) │\n",
              "├──────────────────────────────────────┼─────────────────────────────┼─────────────────┤\n",
              "│ dense_1 (\u001b[38;5;33mDense\u001b[0m)                      │ ?                           │     \u001b[38;5;34m0\u001b[0m (unbuilt) │\n",
              "└──────────────────────────────────────┴─────────────────────────────┴─────────────────┘\n"
            ],
            "text/html": [
              "<pre style=\"white-space:pre;overflow-x:auto;line-height:normal;font-family:Menlo,'DejaVu Sans Mono',consolas,'Courier New',monospace\">┏━━━━━━━━━━━━━━━━━━━━━━━━━━━━━━━━━━━━━━┳━━━━━━━━━━━━━━━━━━━━━━━━━━━━━┳━━━━━━━━━━━━━━━━━┓\n",
              "┃<span style=\"font-weight: bold\"> Layer (type)                         </span>┃<span style=\"font-weight: bold\"> Output Shape                </span>┃<span style=\"font-weight: bold\">         Param # </span>┃\n",
              "┡━━━━━━━━━━━━━━━━━━━━━━━━━━━━━━━━━━━━━━╇━━━━━━━━━━━━━━━━━━━━━━━━━━━━━╇━━━━━━━━━━━━━━━━━┩\n",
              "│ embedding (<span style=\"color: #0087ff; text-decoration-color: #0087ff\">Embedding</span>)                │ ?                           │     <span style=\"color: #00af00; text-decoration-color: #00af00\">0</span> (unbuilt) │\n",
              "├──────────────────────────────────────┼─────────────────────────────┼─────────────────┤\n",
              "│ lstm (<span style=\"color: #0087ff; text-decoration-color: #0087ff\">LSTM</span>)                          │ ?                           │     <span style=\"color: #00af00; text-decoration-color: #00af00\">0</span> (unbuilt) │\n",
              "├──────────────────────────────────────┼─────────────────────────────┼─────────────────┤\n",
              "│ lstm_1 (<span style=\"color: #0087ff; text-decoration-color: #0087ff\">LSTM</span>)                        │ ?                           │     <span style=\"color: #00af00; text-decoration-color: #00af00\">0</span> (unbuilt) │\n",
              "├──────────────────────────────────────┼─────────────────────────────┼─────────────────┤\n",
              "│ dense (<span style=\"color: #0087ff; text-decoration-color: #0087ff\">Dense</span>)                        │ ?                           │     <span style=\"color: #00af00; text-decoration-color: #00af00\">0</span> (unbuilt) │\n",
              "├──────────────────────────────────────┼─────────────────────────────┼─────────────────┤\n",
              "│ dense_1 (<span style=\"color: #0087ff; text-decoration-color: #0087ff\">Dense</span>)                      │ ?                           │     <span style=\"color: #00af00; text-decoration-color: #00af00\">0</span> (unbuilt) │\n",
              "└──────────────────────────────────────┴─────────────────────────────┴─────────────────┘\n",
              "</pre>\n"
            ]
          },
          "metadata": {}
        },
        {
          "output_type": "display_data",
          "data": {
            "text/plain": [
              "\u001b[1m Total params: \u001b[0m\u001b[38;5;34m0\u001b[0m (0.00 B)\n"
            ],
            "text/html": [
              "<pre style=\"white-space:pre;overflow-x:auto;line-height:normal;font-family:Menlo,'DejaVu Sans Mono',consolas,'Courier New',monospace\"><span style=\"font-weight: bold\"> Total params: </span><span style=\"color: #00af00; text-decoration-color: #00af00\">0</span> (0.00 B)\n",
              "</pre>\n"
            ]
          },
          "metadata": {}
        },
        {
          "output_type": "display_data",
          "data": {
            "text/plain": [
              "\u001b[1m Trainable params: \u001b[0m\u001b[38;5;34m0\u001b[0m (0.00 B)\n"
            ],
            "text/html": [
              "<pre style=\"white-space:pre;overflow-x:auto;line-height:normal;font-family:Menlo,'DejaVu Sans Mono',consolas,'Courier New',monospace\"><span style=\"font-weight: bold\"> Trainable params: </span><span style=\"color: #00af00; text-decoration-color: #00af00\">0</span> (0.00 B)\n",
              "</pre>\n"
            ]
          },
          "metadata": {}
        },
        {
          "output_type": "display_data",
          "data": {
            "text/plain": [
              "\u001b[1m Non-trainable params: \u001b[0m\u001b[38;5;34m0\u001b[0m (0.00 B)\n"
            ],
            "text/html": [
              "<pre style=\"white-space:pre;overflow-x:auto;line-height:normal;font-family:Menlo,'DejaVu Sans Mono',consolas,'Courier New',monospace\"><span style=\"font-weight: bold\"> Non-trainable params: </span><span style=\"color: #00af00; text-decoration-color: #00af00\">0</span> (0.00 B)\n",
              "</pre>\n"
            ]
          },
          "metadata": {}
        }
      ]
    },
    {
      "cell_type": "code",
      "source": [
        "# Convert y_train and y_test to NumPy arrays with dtype=int\n",
        "y_train = np.array(y_train, dtype=int)\n",
        "y_test = np.array(y_test, dtype=int)\n",
        "\n",
        "# Train the LSTM model\n",
        "history_lstm = model_lstm.fit(X_train, y_train, epochs=10, validation_data=(X_test, y_test))"
      ],
      "metadata": {
        "colab": {
          "base_uri": "https://localhost:8080/"
        },
        "id": "iJ_4a3otJX8o",
        "outputId": "7697d5be-6e33-4a13-c5f6-481d5bd362bb"
      },
      "execution_count": 27,
      "outputs": [
        {
          "output_type": "stream",
          "name": "stdout",
          "text": [
            "Epoch 1/10\n"
          ]
        },
        {
          "output_type": "stream",
          "name": "stderr",
          "text": [
            "/usr/local/lib/python3.10/dist-packages/ipykernel/ipkernel.py:283: DeprecationWarning: `should_run_async` will not call `transform_cell` automatically in the future. Please pass the result to `transformed_cell` argument and any exception that happen during thetransform in `preprocessing_exc_tuple` in IPython 7.17 and above.\n",
            "  and should_run_async(code)\n"
          ]
        },
        {
          "output_type": "stream",
          "name": "stdout",
          "text": [
            "\u001b[1m92/92\u001b[0m \u001b[32m━━━━━━━━━━━━━━━━━━━━\u001b[0m\u001b[37m\u001b[0m \u001b[1m32s\u001b[0m 296ms/step - accuracy: 1.0000 - loss: 0.1531 - val_accuracy: 1.0000 - val_loss: 6.7867e-04\n",
            "Epoch 2/10\n",
            "\u001b[1m92/92\u001b[0m \u001b[32m━━━━━━━━━━━━━━━━━━━━\u001b[0m\u001b[37m\u001b[0m \u001b[1m25s\u001b[0m 267ms/step - accuracy: 1.0000 - loss: 5.4414e-04 - val_accuracy: 1.0000 - val_loss: 3.0209e-04\n",
            "Epoch 3/10\n",
            "\u001b[1m92/92\u001b[0m \u001b[32m━━━━━━━━━━━━━━━━━━━━\u001b[0m\u001b[37m\u001b[0m \u001b[1m27s\u001b[0m 295ms/step - accuracy: 1.0000 - loss: 2.6435e-04 - val_accuracy: 1.0000 - val_loss: 1.8057e-04\n",
            "Epoch 4/10\n",
            "\u001b[1m92/92\u001b[0m \u001b[32m━━━━━━━━━━━━━━━━━━━━\u001b[0m\u001b[37m\u001b[0m \u001b[1m26s\u001b[0m 280ms/step - accuracy: 1.0000 - loss: 1.6332e-04 - val_accuracy: 1.0000 - val_loss: 1.2197e-04\n",
            "Epoch 5/10\n",
            "\u001b[1m92/92\u001b[0m \u001b[32m━━━━━━━━━━━━━━━━━━━━\u001b[0m\u001b[37m\u001b[0m \u001b[1m40s\u001b[0m 266ms/step - accuracy: 1.0000 - loss: 1.1242e-04 - val_accuracy: 1.0000 - val_loss: 8.8499e-05\n",
            "Epoch 6/10\n",
            "\u001b[1m92/92\u001b[0m \u001b[32m━━━━━━━━━━━━━━━━━━━━\u001b[0m\u001b[37m\u001b[0m \u001b[1m41s\u001b[0m 264ms/step - accuracy: 1.0000 - loss: 8.2601e-05 - val_accuracy: 1.0000 - val_loss: 6.7426e-05\n",
            "Epoch 7/10\n",
            "\u001b[1m92/92\u001b[0m \u001b[32m━━━━━━━━━━━━━━━━━━━━\u001b[0m\u001b[37m\u001b[0m \u001b[1m41s\u001b[0m 264ms/step - accuracy: 1.0000 - loss: 6.3517e-05 - val_accuracy: 1.0000 - val_loss: 5.3243e-05\n",
            "Epoch 8/10\n",
            "\u001b[1m92/92\u001b[0m \u001b[32m━━━━━━━━━━━━━━━━━━━━\u001b[0m\u001b[37m\u001b[0m \u001b[1m42s\u001b[0m 277ms/step - accuracy: 1.0000 - loss: 5.0502e-05 - val_accuracy: 1.0000 - val_loss: 4.3180e-05\n",
            "Epoch 9/10\n",
            "\u001b[1m92/92\u001b[0m \u001b[32m━━━━━━━━━━━━━━━━━━━━\u001b[0m\u001b[37m\u001b[0m \u001b[1m27s\u001b[0m 294ms/step - accuracy: 1.0000 - loss: 4.1174e-05 - val_accuracy: 1.0000 - val_loss: 3.5751e-05\n",
            "Epoch 10/10\n",
            "\u001b[1m92/92\u001b[0m \u001b[32m━━━━━━━━━━━━━━━━━━━━\u001b[0m\u001b[37m\u001b[0m \u001b[1m25s\u001b[0m 267ms/step - accuracy: 1.0000 - loss: 3.4235e-05 - val_accuracy: 1.0000 - val_loss: 3.0093e-05\n"
          ]
        }
      ]
    },
    {
      "cell_type": "code",
      "source": [
        "import numpy as np\n",
        "from sklearn.model_selection import train_test_split\n",
        "from sklearn.metrics import accuracy_score, precision_score, recall_score, f1_score\n",
        "from tensorflow.keras.models import Sequential\n",
        "from tensorflow.keras.layers import LSTM, Dense, Embedding\n",
        "from tensorflow.keras.preprocessing.sequence import pad_sequences\n",
        "\n",
        "data = np.random.randint(0, 1000, size=(1000, 10))\n",
        "labels = np.random.randint(0, 2, size=(1000,))\n",
        "\n",
        "# Pad sequences for consistency\n",
        "data_padded = pad_sequences(data, maxlen=10)\n",
        "\n",
        "# Split the dataset into training and testing sets\n",
        "X_train, X_test, y_train, y_test = train_test_split(data_padded, labels, test_size=0.2, random_state=42)\n",
        "\n",
        "# Define an LSTM model\n",
        "model = Sequential([\n",
        "    Embedding(input_dim=1000, output_dim=64, input_length=10),\n",
        "    LSTM(64),\n",
        "    Dense(1, activation='sigmoid')\n",
        "])\n",
        "\n",
        "# Compile model\n",
        "model.compile(optimizer='adam', loss='binary_crossentropy', metrics=['accuracy'])\n",
        "\n",
        "# Train model\n",
        "model.fit(X_train, y_train, epochs=10, batch_size=32)\n",
        "\n",
        "# Predict on test data\n",
        "y_pred_lstm = model.predict(X_test)\n",
        "y_pred_lstm = [1 if prob > 0.5 else 0 for prob in y_pred_lstm.flatten()]\n",
        "\n",
        "# Calculate metrics\n",
        "accuracy = accuracy_score(y_test, y_pred_lstm)\n",
        "precision = precision_score(y_test, y_pred_lstm, average='macro')\n",
        "recall = recall_score(y_test, y_pred_lstm, average='macro')\n",
        "f1 = f1_score(y_test, y_pred_lstm, average='macro')\n",
        "\n",
        "print(f\"Accuracy: {accuracy}, Precision: {precision}, Recall: {recall}, F1 Score: {f1}\")"
      ],
      "metadata": {
        "id": "TpmI4cJa-ucT",
        "colab": {
          "base_uri": "https://localhost:8080/"
        },
        "outputId": "e311d4fd-8c73-4e6e-9f0c-48f92eca0760"
      },
      "execution_count": 24,
      "outputs": [
        {
          "output_type": "stream",
          "name": "stdout",
          "text": [
            "Epoch 1/10\n"
          ]
        },
        {
          "output_type": "stream",
          "name": "stderr",
          "text": [
            "/usr/local/lib/python3.10/dist-packages/ipykernel/ipkernel.py:283: DeprecationWarning: `should_run_async` will not call `transform_cell` automatically in the future. Please pass the result to `transformed_cell` argument and any exception that happen during thetransform in `preprocessing_exc_tuple` in IPython 7.17 and above.\n",
            "  and should_run_async(code)\n"
          ]
        },
        {
          "output_type": "stream",
          "name": "stdout",
          "text": [
            "\u001b[1m25/25\u001b[0m \u001b[32m━━━━━━━━━━━━━━━━━━━━\u001b[0m\u001b[37m\u001b[0m \u001b[1m6s\u001b[0m 12ms/step - accuracy: 0.5400 - loss: 0.6921\n",
            "Epoch 2/10\n",
            "\u001b[1m25/25\u001b[0m \u001b[32m━━━━━━━━━━━━━━━━━━━━\u001b[0m\u001b[37m\u001b[0m \u001b[1m1s\u001b[0m 12ms/step - accuracy: 0.5511 - loss: 0.6758\n",
            "Epoch 3/10\n",
            "\u001b[1m25/25\u001b[0m \u001b[32m━━━━━━━━━━━━━━━━━━━━\u001b[0m\u001b[37m\u001b[0m \u001b[1m0s\u001b[0m 13ms/step - accuracy: 0.7227 - loss: 0.5727\n",
            "Epoch 4/10\n",
            "\u001b[1m25/25\u001b[0m \u001b[32m━━━━━━━━━━━━━━━━━━━━\u001b[0m\u001b[37m\u001b[0m \u001b[1m1s\u001b[0m 15ms/step - accuracy: 0.9027 - loss: 0.4006\n",
            "Epoch 5/10\n",
            "\u001b[1m25/25\u001b[0m \u001b[32m━━━━━━━━━━━━━━━━━━━━\u001b[0m\u001b[37m\u001b[0m \u001b[1m1s\u001b[0m 13ms/step - accuracy: 0.9362 - loss: 0.2178\n",
            "Epoch 6/10\n",
            "\u001b[1m25/25\u001b[0m \u001b[32m━━━━━━━━━━━━━━━━━━━━\u001b[0m\u001b[37m\u001b[0m \u001b[1m0s\u001b[0m 11ms/step - accuracy: 0.9841 - loss: 0.0863\n",
            "Epoch 7/10\n",
            "\u001b[1m25/25\u001b[0m \u001b[32m━━━━━━━━━━━━━━━━━━━━\u001b[0m\u001b[37m\u001b[0m \u001b[1m1s\u001b[0m 8ms/step - accuracy: 0.9940 - loss: 0.0328\n",
            "Epoch 8/10\n",
            "\u001b[1m25/25\u001b[0m \u001b[32m━━━━━━━━━━━━━━━━━━━━\u001b[0m\u001b[37m\u001b[0m \u001b[1m0s\u001b[0m 7ms/step - accuracy: 0.9965 - loss: 0.0211\n",
            "Epoch 9/10\n",
            "\u001b[1m25/25\u001b[0m \u001b[32m━━━━━━━━━━━━━━━━━━━━\u001b[0m\u001b[37m\u001b[0m \u001b[1m0s\u001b[0m 8ms/step - accuracy: 1.0000 - loss: 0.0065\n",
            "Epoch 10/10\n",
            "\u001b[1m25/25\u001b[0m \u001b[32m━━━━━━━━━━━━━━━━━━━━\u001b[0m\u001b[37m\u001b[0m \u001b[1m0s\u001b[0m 8ms/step - accuracy: 1.0000 - loss: 0.0026\n",
            "\u001b[1m7/7\u001b[0m \u001b[32m━━━━━━━━━━━━━━━━━━━━\u001b[0m\u001b[37m\u001b[0m \u001b[1m0s\u001b[0m 31ms/step\n",
            "Accuracy: 0.53, Precision: 0.5345268542199488, Recall: 0.5338345864661654, F1 Score: 0.5288220551378446\n"
          ]
        }
      ]
    },
    {
      "cell_type": "code",
      "source": [
        "from sklearn.linear_model import LogisticRegression\n",
        "\n",
        "# Define baseline model\n",
        "baseline_model = LogisticRegression()\n",
        "\n",
        "# Train model\n",
        "baseline_model.fit(X_train, y_train)\n",
        "\n",
        "# Predict on test data\n",
        "y_pred_baseline = baseline_model.predict(X_test)\n",
        "\n",
        "# Calculate metrics\n",
        "accuracy_baseline = accuracy_score(y_test, y_pred_baseline)\n",
        "precision_baseline = precision_score(y_test, y_pred_baseline, average='macro')\n",
        "recall_baseline = recall_score(y_test, y_pred_baseline, average='macro')\n",
        "f1_baseline = f1_score(y_test, y_pred_baseline, average='macro')\n",
        "\n",
        "print(f\"Baseline Model: Accuracy: {accuracy_baseline}, Precision: {precision_baseline}, Recall: {recall_baseline}, F1 Score: {f1_baseline}\")"
      ],
      "metadata": {
        "id": "B0IL4yvT_LBL",
        "colab": {
          "base_uri": "https://localhost:8080/"
        },
        "outputId": "46625d1e-751f-43b7-ae6a-cdbcf291d203"
      },
      "execution_count": 25,
      "outputs": [
        {
          "output_type": "stream",
          "name": "stdout",
          "text": [
            "Baseline Model: Accuracy: 0.5, Precision: 0.5226261696579231, Recall: 0.5147869674185463, F1 Score: 0.46068385287455504\n"
          ]
        },
        {
          "output_type": "stream",
          "name": "stderr",
          "text": [
            "/usr/local/lib/python3.10/dist-packages/ipykernel/ipkernel.py:283: DeprecationWarning: `should_run_async` will not call `transform_cell` automatically in the future. Please pass the result to `transformed_cell` argument and any exception that happen during thetransform in `preprocessing_exc_tuple` in IPython 7.17 and above.\n",
            "  and should_run_async(code)\n"
          ]
        }
      ]
    },
    {
      "cell_type": "code",
      "source": [
        "from transformers import BertTokenizer, TFBertForSequenceClassification\n",
        "import tensorflow as tf\n",
        "\n",
        "# Initialize BERT tokenizer\n",
        "tokenizer = BertTokenizer.from_pretrained('bert-base-uncased')\n",
        "\n",
        "# Convert X_train and X_test to lists of strings\n",
        "X_train_texts = [' '.join(map(str, seq)) for seq in X_train]\n",
        "X_test_texts = [' '.join(map(str, seq)) for seq in X_test]\n",
        "\n",
        "# Prepare data\n",
        "train_encodings = tokenizer(X_train_texts, truncation=True, padding=True, max_length=128)\n",
        "test_encodings = tokenizer(X_test_texts, truncation=True, padding=True, max_length=128)\n",
        "\n",
        "# Convert to TensorFlow datasets\n",
        "train_dataset = tf.data.Dataset.from_tensor_slices((\n",
        "    dict(train_encodings),\n",
        "    y_train\n",
        ")).shuffle(1000).batch(32)\n",
        "test_dataset = tf.data.Dataset.from_tensor_slices((\n",
        "    dict(test_encodings),\n",
        "    y_test\n",
        ")).batch(32)\n",
        "\n",
        "# Define BERT model\n",
        "bert_model = TFBertForSequenceClassification.from_pretrained('bert-base-uncased', num_labels=1)\n",
        "\n",
        "# Compile model using adam\n",
        "bert_model.compile(optimizer='adam', loss='binary_crossentropy', metrics=['accuracy'])\n",
        "\n",
        "# Train model\n",
        "bert_model.fit(train_dataset, epochs=3, batch_size=32)\n",
        "\n",
        "# Predict on test data\n",
        "y_pred_bert_probs = bert_model.predict(test_dataset)[0]\n",
        "y_pred_bert = (y_pred_bert_probs >= 0.5).astype(int)\n",
        "\n",
        "# Calculate metrics\n",
        "accuracy_bert = accuracy_score(y_test, y_pred_bert)\n",
        "precision_bert = precision_score(y_test, y_pred_bert, average='macro')\n",
        "recall_bert = recall_score(y_test, y_pred_bert, average='macro')\n",
        "f1_bert = f1_score(y_test, y_pred_bert, average='macro')\n",
        "\n",
        "print(f\"BERT Model: Accuracy: {accuracy_bert}, Precision: {precision_bert}, Recall: {recall_bert}, F1 Score: {f1_bert}\")"
      ],
      "metadata": {
        "id": "RTjqOASs_StI",
        "colab": {
          "base_uri": "https://localhost:8080/"
        },
        "outputId": "ed85c92e-e2b6-45f3-b2c0-029084fcf15e"
      },
      "execution_count": 35,
      "outputs": [
        {
          "output_type": "stream",
          "name": "stderr",
          "text": [
            "/usr/local/lib/python3.10/dist-packages/ipykernel/ipkernel.py:283: DeprecationWarning: `should_run_async` will not call `transform_cell` automatically in the future. Please pass the result to `transformed_cell` argument and any exception that happen during thetransform in `preprocessing_exc_tuple` in IPython 7.17 and above.\n",
            "  and should_run_async(code)\n",
            "All PyTorch model weights were used when initializing TFBertForSequenceClassification.\n",
            "\n",
            "Some weights or buffers of the TF 2.0 model TFBertForSequenceClassification were not initialized from the PyTorch model and are newly initialized: ['classifier.weight', 'classifier.bias']\n",
            "You should probably TRAIN this model on a down-stream task to be able to use it for predictions and inference.\n"
          ]
        },
        {
          "output_type": "stream",
          "name": "stdout",
          "text": [
            "Epoch 1/3\n",
            "25/25 [==============================] - 283s 10s/step - loss: 6.9169 - accuracy: 0.5500\n",
            "Epoch 2/3\n",
            "25/25 [==============================] - 234s 9s/step - loss: 7.6473 - accuracy: 0.4938\n",
            "Epoch 3/3\n",
            "25/25 [==============================] - 227s 9s/step - loss: 7.0374 - accuracy: 0.5437\n",
            "7/7 [==============================] - 21s 2s/step\n",
            "BERT Model: Accuracy: 0.475, Precision: 0.2375, Recall: 0.5, F1 Score: 0.3220338983050847\n"
          ]
        },
        {
          "output_type": "stream",
          "name": "stderr",
          "text": [
            "/usr/local/lib/python3.10/dist-packages/sklearn/metrics/_classification.py:1531: UndefinedMetricWarning: Precision is ill-defined and being set to 0.0 in labels with no predicted samples. Use `zero_division` parameter to control this behavior.\n",
            "  _warn_prf(average, modifier, f\"{metric.capitalize()} is\", len(result))\n"
          ]
        }
      ]
    },
    {
      "cell_type": "code",
      "source": [
        "from google.colab import drive\n",
        "drive.flush_and_unmount()"
      ],
      "metadata": {
        "id": "Q4GV6L5kNWfq"
      },
      "execution_count": null,
      "outputs": []
    },
    {
      "cell_type": "markdown",
      "source": [],
      "metadata": {
        "id": "-VagmeAlMipT"
      }
    }
  ]
}